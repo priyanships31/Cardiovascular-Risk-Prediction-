{
  "nbformat": 4,
  "nbformat_minor": 0,
  "metadata": {
    "colab": {
      "name": "Cardiovascular Risk Prediction.ipynb",
      "provenance": [],
      "collapsed_sections": [],
      "mount_file_id": "1cDWDeGCUlDqcA-0s59NyvImu70CiFHb-",
      "authorship_tag": "ABX9TyONrVjIhZv1hyC2IycPnxni",
      "include_colab_link": true
    },
    "kernelspec": {
      "name": "python3",
      "display_name": "Python 3"
    },
    "language_info": {
      "name": "python"
    }
  },
  "cells": [
    {
      "cell_type": "markdown",
      "metadata": {
        "id": "view-in-github",
        "colab_type": "text"
      },
      "source": [
        "<a href=\"https://colab.research.google.com/github/shirsh12/Cardiovascular-Risk-Prediction/blob/main/Cardiovascular_Risk_Prediction.ipynb\" target=\"_parent\"><img src=\"https://colab.research.google.com/assets/colab-badge.svg\" alt=\"Open In Colab\"/></a>"
      ]
    },
    {
      "cell_type": "markdown",
      "metadata": {
        "id": "R4c3dHMv4f_i"
      },
      "source": [
        "#**INTRODUCTION**\n",
        "---\n",
        "Heart disease is the major cause of morbidity and mortality globally: it accounts for more deaths annually than any other cause. According to the WHO, an estimated 17.9 million people died from heart disease in 2016, representing 31% of all global deaths. Over three quarters of these deaths took place in low- and middle-income countries.\n",
        "\n",
        "Of all heart diseases, coronary heart disease (aka heart attack) is by far the most common and the most fatal. In the United States, for example, it is estimated that someone has a heart attack every 40 seconds and about 805,000 Americans have a heart attack every year (CDC 2019).\n",
        "\n",
        "The silver lining is that heart attacks are highly preventable and simple lifestyle modifications(such as reducing alcohol and tobacco use; eating healthily and exercising) coupled with early treatment greatly improves its prognosis. It is, however, difficult to identify high risk patients because of the multi-factorial nature of several contributory risk factors such as diabetes, high blood pressure, high cholesterol, et cetera. This is where machine learning and data mining come to the rescue.\n",
        "\n",
        "Doctors and scientists alike have turned to machine learning (ML) techniques to develop screening tools and this is because of their superiority in pattern recognition and classification as compared to other traditional statistical approaches.\n",
        "\n",
        "In this project, I will be giving you a walk through on the development of a screening tool for predicting whether a patient has 10-year risk of developing coronary heart disease(CHD) using different Machine Learning techniques "
      ]
    },
    {
      "cell_type": "code",
      "metadata": {
        "colab": {
          "base_uri": "https://localhost:8080/"
        },
        "id": "rAHsvQnVXUac",
        "outputId": "0d6a4ad0-d1a2-4d88-b403-6236ee0df274"
      },
      "source": [
        "#mount drive\n",
        "from google.colab import drive\n",
        "drive.mount('/content/drive')"
      ],
      "execution_count": null,
      "outputs": [
        {
          "output_type": "stream",
          "text": [
            "Drive already mounted at /content/drive; to attempt to forcibly remount, call drive.mount(\"/content/drive\", force_remount=True).\n"
          ],
          "name": "stdout"
        }
      ]
    },
    {
      "cell_type": "code",
      "metadata": {
        "id": "f03QJw_QUssv"
      },
      "source": [
        "import numpy as np\n",
        "import pandas as pd\n",
        "%matplotlib inline\n",
        "import matplotlib.pyplot as plt\n",
        "import seaborn as sns\n",
        "from sklearn.impute import KNNImputer\n",
        "from sklearn.impute import SimpleImputer\n",
        "# Import and suppress warnings\n",
        "import warnings\n",
        "warnings.filterwarnings('ignore')\n",
        "import os"
      ],
      "execution_count": null,
      "outputs": []
    },
    {
      "cell_type": "code",
      "metadata": {
        "id": "uDL9UUF2XB25"
      },
      "source": [
        "#loading data set\n",
        "path= \"/content/drive/MyDrive/AlmaBetter/Cohort Nilgiri/Team Capstone Project - Cardiovascular Risk Prediction/data_cardiovascular_risk.csv\"\n",
        "\n",
        "main_data = pd.read_csv(path)"
      ],
      "execution_count": null,
      "outputs": []
    },
    {
      "cell_type": "code",
      "metadata": {
        "colab": {
          "base_uri": "https://localhost:8080/",
          "height": 226
        },
        "id": "iute3epMYOlb",
        "outputId": "7f2165b1-9c92-481f-fe77-c5e32ec1766b"
      },
      "source": [
        "#view\n",
        "main_data.head()"
      ],
      "execution_count": null,
      "outputs": [
        {
          "output_type": "execute_result",
          "data": {
            "text/html": [
              "<div>\n",
              "<style scoped>\n",
              "    .dataframe tbody tr th:only-of-type {\n",
              "        vertical-align: middle;\n",
              "    }\n",
              "\n",
              "    .dataframe tbody tr th {\n",
              "        vertical-align: top;\n",
              "    }\n",
              "\n",
              "    .dataframe thead th {\n",
              "        text-align: right;\n",
              "    }\n",
              "</style>\n",
              "<table border=\"1\" class=\"dataframe\">\n",
              "  <thead>\n",
              "    <tr style=\"text-align: right;\">\n",
              "      <th></th>\n",
              "      <th>id</th>\n",
              "      <th>age</th>\n",
              "      <th>education</th>\n",
              "      <th>sex</th>\n",
              "      <th>is_smoking</th>\n",
              "      <th>cigsPerDay</th>\n",
              "      <th>BPMeds</th>\n",
              "      <th>prevalentStroke</th>\n",
              "      <th>prevalentHyp</th>\n",
              "      <th>diabetes</th>\n",
              "      <th>totChol</th>\n",
              "      <th>sysBP</th>\n",
              "      <th>diaBP</th>\n",
              "      <th>BMI</th>\n",
              "      <th>heartRate</th>\n",
              "      <th>glucose</th>\n",
              "      <th>TenYearCHD</th>\n",
              "    </tr>\n",
              "  </thead>\n",
              "  <tbody>\n",
              "    <tr>\n",
              "      <th>0</th>\n",
              "      <td>0</td>\n",
              "      <td>64</td>\n",
              "      <td>2.0</td>\n",
              "      <td>F</td>\n",
              "      <td>YES</td>\n",
              "      <td>3.0</td>\n",
              "      <td>0.0</td>\n",
              "      <td>0</td>\n",
              "      <td>0</td>\n",
              "      <td>0</td>\n",
              "      <td>221.0</td>\n",
              "      <td>148.0</td>\n",
              "      <td>85.0</td>\n",
              "      <td>NaN</td>\n",
              "      <td>90.0</td>\n",
              "      <td>80.0</td>\n",
              "      <td>1</td>\n",
              "    </tr>\n",
              "    <tr>\n",
              "      <th>1</th>\n",
              "      <td>1</td>\n",
              "      <td>36</td>\n",
              "      <td>4.0</td>\n",
              "      <td>M</td>\n",
              "      <td>NO</td>\n",
              "      <td>0.0</td>\n",
              "      <td>0.0</td>\n",
              "      <td>0</td>\n",
              "      <td>1</td>\n",
              "      <td>0</td>\n",
              "      <td>212.0</td>\n",
              "      <td>168.0</td>\n",
              "      <td>98.0</td>\n",
              "      <td>29.77</td>\n",
              "      <td>72.0</td>\n",
              "      <td>75.0</td>\n",
              "      <td>0</td>\n",
              "    </tr>\n",
              "    <tr>\n",
              "      <th>2</th>\n",
              "      <td>2</td>\n",
              "      <td>46</td>\n",
              "      <td>1.0</td>\n",
              "      <td>F</td>\n",
              "      <td>YES</td>\n",
              "      <td>10.0</td>\n",
              "      <td>0.0</td>\n",
              "      <td>0</td>\n",
              "      <td>0</td>\n",
              "      <td>0</td>\n",
              "      <td>250.0</td>\n",
              "      <td>116.0</td>\n",
              "      <td>71.0</td>\n",
              "      <td>20.35</td>\n",
              "      <td>88.0</td>\n",
              "      <td>94.0</td>\n",
              "      <td>0</td>\n",
              "    </tr>\n",
              "    <tr>\n",
              "      <th>3</th>\n",
              "      <td>3</td>\n",
              "      <td>50</td>\n",
              "      <td>1.0</td>\n",
              "      <td>M</td>\n",
              "      <td>YES</td>\n",
              "      <td>20.0</td>\n",
              "      <td>0.0</td>\n",
              "      <td>0</td>\n",
              "      <td>1</td>\n",
              "      <td>0</td>\n",
              "      <td>233.0</td>\n",
              "      <td>158.0</td>\n",
              "      <td>88.0</td>\n",
              "      <td>28.26</td>\n",
              "      <td>68.0</td>\n",
              "      <td>94.0</td>\n",
              "      <td>1</td>\n",
              "    </tr>\n",
              "    <tr>\n",
              "      <th>4</th>\n",
              "      <td>4</td>\n",
              "      <td>64</td>\n",
              "      <td>1.0</td>\n",
              "      <td>F</td>\n",
              "      <td>YES</td>\n",
              "      <td>30.0</td>\n",
              "      <td>0.0</td>\n",
              "      <td>0</td>\n",
              "      <td>0</td>\n",
              "      <td>0</td>\n",
              "      <td>241.0</td>\n",
              "      <td>136.5</td>\n",
              "      <td>85.0</td>\n",
              "      <td>26.42</td>\n",
              "      <td>70.0</td>\n",
              "      <td>77.0</td>\n",
              "      <td>0</td>\n",
              "    </tr>\n",
              "  </tbody>\n",
              "</table>\n",
              "</div>"
            ],
            "text/plain": [
              "   id  age  education sex  ...    BMI  heartRate  glucose  TenYearCHD\n",
              "0   0   64        2.0   F  ...    NaN       90.0     80.0           1\n",
              "1   1   36        4.0   M  ...  29.77       72.0     75.0           0\n",
              "2   2   46        1.0   F  ...  20.35       88.0     94.0           0\n",
              "3   3   50        1.0   M  ...  28.26       68.0     94.0           1\n",
              "4   4   64        1.0   F  ...  26.42       70.0     77.0           0\n",
              "\n",
              "[5 rows x 17 columns]"
            ]
          },
          "metadata": {
            "tags": []
          },
          "execution_count": 5
        }
      ]
    },
    {
      "cell_type": "markdown",
      "metadata": {
        "id": "ttaYTzOvaTdJ"
      },
      "source": [
        "\n",
        "The dataset is from an ongoing cardiovascular studyon residents of the town of Framingham,Massachusetts. The classification goal is to predictwhether the patient has a 10-year risk offuture coronary heart disease (CHD). The dataset providesthe patients’ information. It includesover 4,000 records and 15 attributes.VariablesEach attribute is a potential risk factor. There are both demographic, behavioral, and medical riskfactors.\n",
        "#**Data DescriptionDemographic:**\n",
        "\n",
        "*  Sex: male or female(\"M\" or \"F\")\n",
        "*  Age: Age of the patient;(Continuous - Although therecorded ages have been truncated towhole numbers, the concept of age is continuous)Behavioral\n",
        "* is_smoking: whether or not the patient is a currentsmoker (\"YES\" or \"NO\")\n",
        "* Cigs Per Day: the number of cigarettes that theperson smoked on average in one day.(can beconsidered continuous as one can have any number ofcigarettes, even half a cigarette.)Medical( history)\n",
        "* BP Meds: whether or not the patient was on bloodpressure medication (Nominal)\n",
        "* Prevalent Stroke: whether or not the patient hadpreviously had a stroke (Nominal)\n",
        "* Prevalent Hyp: whether or not the patient was hypertensive(Nominal)\n",
        "* Diabetes: whether or not the patient had diabetes(Nominal)Medical(current)\n",
        "* Tot Chol: total cholesterol level (Continuous)\n",
        "* Sys BP: systolic blood pressure (Continuous)\n",
        "* Dia BP: diastolic blood pressure (Continuous)\n",
        "* BMI: Body Mass Index (Continuous)\n",
        "* Heart Rate: heart rate (Continuous - In medicalresearch, variables such as heart rate though infact discrete, yet are considered continuous becauseof large number of possible values.)\n",
        "* Glucose: glucose level (Continuous)Predict variable (desired target)\n",
        "* 10-year risk of coronary heart disease CHD(binary:“1”, means “Yes”, “0” means “No”) -DV\n"
      ]
    },
    {
      "cell_type": "code",
      "metadata": {
        "colab": {
          "base_uri": "https://localhost:8080/",
          "height": 320
        },
        "id": "m_ykKBpZYsuF",
        "outputId": "ab835248-cca6-4972-df24-6f2d21083c03"
      },
      "source": [
        "#descriptive stats\n",
        "main_data.describe()"
      ],
      "execution_count": null,
      "outputs": [
        {
          "output_type": "execute_result",
          "data": {
            "text/html": [
              "<div>\n",
              "<style scoped>\n",
              "    .dataframe tbody tr th:only-of-type {\n",
              "        vertical-align: middle;\n",
              "    }\n",
              "\n",
              "    .dataframe tbody tr th {\n",
              "        vertical-align: top;\n",
              "    }\n",
              "\n",
              "    .dataframe thead th {\n",
              "        text-align: right;\n",
              "    }\n",
              "</style>\n",
              "<table border=\"1\" class=\"dataframe\">\n",
              "  <thead>\n",
              "    <tr style=\"text-align: right;\">\n",
              "      <th></th>\n",
              "      <th>id</th>\n",
              "      <th>age</th>\n",
              "      <th>education</th>\n",
              "      <th>cigsPerDay</th>\n",
              "      <th>BPMeds</th>\n",
              "      <th>prevalentStroke</th>\n",
              "      <th>prevalentHyp</th>\n",
              "      <th>diabetes</th>\n",
              "      <th>totChol</th>\n",
              "      <th>sysBP</th>\n",
              "      <th>diaBP</th>\n",
              "      <th>BMI</th>\n",
              "      <th>heartRate</th>\n",
              "      <th>glucose</th>\n",
              "      <th>TenYearCHD</th>\n",
              "    </tr>\n",
              "  </thead>\n",
              "  <tbody>\n",
              "    <tr>\n",
              "      <th>count</th>\n",
              "      <td>3390.000000</td>\n",
              "      <td>3390.000000</td>\n",
              "      <td>3303.000000</td>\n",
              "      <td>3368.000000</td>\n",
              "      <td>3346.000000</td>\n",
              "      <td>3390.000000</td>\n",
              "      <td>3390.000000</td>\n",
              "      <td>3390.000000</td>\n",
              "      <td>3352.000000</td>\n",
              "      <td>3390.00000</td>\n",
              "      <td>3390.000000</td>\n",
              "      <td>3376.000000</td>\n",
              "      <td>3389.000000</td>\n",
              "      <td>3086.000000</td>\n",
              "      <td>3390.000000</td>\n",
              "    </tr>\n",
              "    <tr>\n",
              "      <th>mean</th>\n",
              "      <td>1694.500000</td>\n",
              "      <td>49.542183</td>\n",
              "      <td>1.970936</td>\n",
              "      <td>9.069477</td>\n",
              "      <td>0.029886</td>\n",
              "      <td>0.006490</td>\n",
              "      <td>0.315339</td>\n",
              "      <td>0.025664</td>\n",
              "      <td>237.074284</td>\n",
              "      <td>132.60118</td>\n",
              "      <td>82.883038</td>\n",
              "      <td>25.794964</td>\n",
              "      <td>75.977279</td>\n",
              "      <td>82.086520</td>\n",
              "      <td>0.150737</td>\n",
              "    </tr>\n",
              "    <tr>\n",
              "      <th>std</th>\n",
              "      <td>978.753033</td>\n",
              "      <td>8.592878</td>\n",
              "      <td>1.019081</td>\n",
              "      <td>11.879078</td>\n",
              "      <td>0.170299</td>\n",
              "      <td>0.080309</td>\n",
              "      <td>0.464719</td>\n",
              "      <td>0.158153</td>\n",
              "      <td>45.247430</td>\n",
              "      <td>22.29203</td>\n",
              "      <td>12.023581</td>\n",
              "      <td>4.115449</td>\n",
              "      <td>11.971868</td>\n",
              "      <td>24.244753</td>\n",
              "      <td>0.357846</td>\n",
              "    </tr>\n",
              "    <tr>\n",
              "      <th>min</th>\n",
              "      <td>0.000000</td>\n",
              "      <td>32.000000</td>\n",
              "      <td>1.000000</td>\n",
              "      <td>0.000000</td>\n",
              "      <td>0.000000</td>\n",
              "      <td>0.000000</td>\n",
              "      <td>0.000000</td>\n",
              "      <td>0.000000</td>\n",
              "      <td>107.000000</td>\n",
              "      <td>83.50000</td>\n",
              "      <td>48.000000</td>\n",
              "      <td>15.960000</td>\n",
              "      <td>45.000000</td>\n",
              "      <td>40.000000</td>\n",
              "      <td>0.000000</td>\n",
              "    </tr>\n",
              "    <tr>\n",
              "      <th>25%</th>\n",
              "      <td>847.250000</td>\n",
              "      <td>42.000000</td>\n",
              "      <td>1.000000</td>\n",
              "      <td>0.000000</td>\n",
              "      <td>0.000000</td>\n",
              "      <td>0.000000</td>\n",
              "      <td>0.000000</td>\n",
              "      <td>0.000000</td>\n",
              "      <td>206.000000</td>\n",
              "      <td>117.00000</td>\n",
              "      <td>74.500000</td>\n",
              "      <td>23.020000</td>\n",
              "      <td>68.000000</td>\n",
              "      <td>71.000000</td>\n",
              "      <td>0.000000</td>\n",
              "    </tr>\n",
              "    <tr>\n",
              "      <th>50%</th>\n",
              "      <td>1694.500000</td>\n",
              "      <td>49.000000</td>\n",
              "      <td>2.000000</td>\n",
              "      <td>0.000000</td>\n",
              "      <td>0.000000</td>\n",
              "      <td>0.000000</td>\n",
              "      <td>0.000000</td>\n",
              "      <td>0.000000</td>\n",
              "      <td>234.000000</td>\n",
              "      <td>128.50000</td>\n",
              "      <td>82.000000</td>\n",
              "      <td>25.380000</td>\n",
              "      <td>75.000000</td>\n",
              "      <td>78.000000</td>\n",
              "      <td>0.000000</td>\n",
              "    </tr>\n",
              "    <tr>\n",
              "      <th>75%</th>\n",
              "      <td>2541.750000</td>\n",
              "      <td>56.000000</td>\n",
              "      <td>3.000000</td>\n",
              "      <td>20.000000</td>\n",
              "      <td>0.000000</td>\n",
              "      <td>0.000000</td>\n",
              "      <td>1.000000</td>\n",
              "      <td>0.000000</td>\n",
              "      <td>264.000000</td>\n",
              "      <td>144.00000</td>\n",
              "      <td>90.000000</td>\n",
              "      <td>28.040000</td>\n",
              "      <td>83.000000</td>\n",
              "      <td>87.000000</td>\n",
              "      <td>0.000000</td>\n",
              "    </tr>\n",
              "    <tr>\n",
              "      <th>max</th>\n",
              "      <td>3389.000000</td>\n",
              "      <td>70.000000</td>\n",
              "      <td>4.000000</td>\n",
              "      <td>70.000000</td>\n",
              "      <td>1.000000</td>\n",
              "      <td>1.000000</td>\n",
              "      <td>1.000000</td>\n",
              "      <td>1.000000</td>\n",
              "      <td>696.000000</td>\n",
              "      <td>295.00000</td>\n",
              "      <td>142.500000</td>\n",
              "      <td>56.800000</td>\n",
              "      <td>143.000000</td>\n",
              "      <td>394.000000</td>\n",
              "      <td>1.000000</td>\n",
              "    </tr>\n",
              "  </tbody>\n",
              "</table>\n",
              "</div>"
            ],
            "text/plain": [
              "                id          age  ...      glucose   TenYearCHD\n",
              "count  3390.000000  3390.000000  ...  3086.000000  3390.000000\n",
              "mean   1694.500000    49.542183  ...    82.086520     0.150737\n",
              "std     978.753033     8.592878  ...    24.244753     0.357846\n",
              "min       0.000000    32.000000  ...    40.000000     0.000000\n",
              "25%     847.250000    42.000000  ...    71.000000     0.000000\n",
              "50%    1694.500000    49.000000  ...    78.000000     0.000000\n",
              "75%    2541.750000    56.000000  ...    87.000000     0.000000\n",
              "max    3389.000000    70.000000  ...   394.000000     1.000000\n",
              "\n",
              "[8 rows x 15 columns]"
            ]
          },
          "metadata": {
            "tags": []
          },
          "execution_count": 6
        }
      ]
    },
    {
      "cell_type": "markdown",
      "metadata": {
        "id": "dvepoBSPeRzh"
      },
      "source": [
        "## Goal : **Given this problem statement we have to build a Predictive Model which will give early detections of heart disease**\n",
        "\n",
        "## For this problem our target variable : TenYearCHD"
      ]
    },
    {
      "cell_type": "code",
      "metadata": {
        "colab": {
          "base_uri": "https://localhost:8080/"
        },
        "id": "7zJlMHU2gUou",
        "outputId": "81cffa23-640c-4e7a-d5cf-69d58847ea09"
      },
      "source": [
        "round(main_data.value_counts(\"TenYearCHD\")/main_data.shape[0],2)"
      ],
      "execution_count": null,
      "outputs": [
        {
          "output_type": "execute_result",
          "data": {
            "text/plain": [
              "TenYearCHD\n",
              "0    0.85\n",
              "1    0.15\n",
              "dtype: float64"
            ]
          },
          "metadata": {
            "tags": []
          },
          "execution_count": 7
        }
      ]
    },
    {
      "cell_type": "code",
      "metadata": {
        "colab": {
          "base_uri": "https://localhost:8080/",
          "height": 319
        },
        "id": "VNLZmGnziSyj",
        "outputId": "4c11ccea-ed3e-4a73-ccaa-e6f79c941b73"
      },
      "source": [
        "labels = 'Non Risk',\"Risk\"\n",
        "my_colors = ['lightblue','red']\n",
        "my_explode = (0,0.1)\n",
        "plt.figure(figsize=(10,5))\n",
        "plt.pie(main_data['TenYearCHD'].value_counts(), labels=labels ,autopct='%1.0f%%', startangle =15, shadow =True, colors = my_colors, explode=my_explode )\n",
        "plt.title(\"Cardiovascular Risk rate\")\n",
        "plt.axis('equal')\n",
        "plt.show()\n",
        "\n"
      ],
      "execution_count": null,
      "outputs": [
        {
          "output_type": "display_data",
          "data": {
            "image/png": "[encoded data removed]",
            "text/plain": [
              "<Figure size 720x360 with 1 Axes>"
            ]
          },
          "metadata": {
            "tags": []
          }
        }
      ]
    },
    {
      "cell_type": "markdown",
      "metadata": {
        "id": "oybXaK76jLbw"
      },
      "source": [
        "## Here we see there is a huge class imbalancedment."
      ]
    },
    {
      "cell_type": "markdown",
      "metadata": {
        "id": "POm_2yLbrPZo"
      },
      "source": [
        "##**Renaming the Target variable \"TenYearCHD\" as RISK** "
      ]
    },
    {
      "cell_type": "code",
      "metadata": {
        "id": "ciFNr7CArdV3"
      },
      "source": [
        "main_data.rename(columns={\"TenYearCHD\":\"RISK\"},inplace=True)"
      ],
      "execution_count": null,
      "outputs": []
    },
    {
      "cell_type": "code",
      "metadata": {
        "colab": {
          "base_uri": "https://localhost:8080/"
        },
        "id": "G_CnEDavvGAL",
        "outputId": "c451d526-6c47-4169-c4d9-14116f1d6390"
      },
      "source": [
        "main_data.columns"
      ],
      "execution_count": null,
      "outputs": [
        {
          "output_type": "execute_result",
          "data": {
            "text/plain": [
              "Index(['id', 'age', 'education', 'sex', 'is_smoking', 'cigsPerDay', 'BPMeds',\n",
              "       'prevalentStroke', 'prevalentHyp', 'diabetes', 'totChol', 'sysBP',\n",
              "       'diaBP', 'BMI', 'heartRate', 'glucose', 'RISK'],\n",
              "      dtype='object')"
            ]
          },
          "metadata": {
            "tags": []
          },
          "execution_count": 10
        }
      ]
    },
    {
      "cell_type": "code",
      "metadata": {
        "colab": {
          "base_uri": "https://localhost:8080/"
        },
        "id": "4X0Y4O-_tAti",
        "outputId": "f9bf58ab-c2ca-4a9e-cd25-68a352502e2b"
      },
      "source": [
        "#Sanity check\n",
        "round(main_data.isnull().sum()/main_data.shape[0]*100,2).sort_values(ascending=False).head()"
      ],
      "execution_count": null,
      "outputs": [
        {
          "output_type": "execute_result",
          "data": {
            "text/plain": [
              "glucose       8.97\n",
              "education     2.57\n",
              "BPMeds        1.30\n",
              "totChol       1.12\n",
              "cigsPerDay    0.65\n",
              "dtype: float64"
            ]
          },
          "metadata": {
            "tags": []
          },
          "execution_count": 11
        }
      ]
    },
    {
      "cell_type": "markdown",
      "metadata": {
        "id": "AQ3eXtrMtQrh"
      },
      "source": [
        "## Except the feature name glucose all other features in the dataset have less than 5% null values."
      ]
    },
    {
      "cell_type": "code",
      "metadata": {
        "id": "T2Z_NWD8uQJs"
      },
      "source": [
        "#Dropping redundant variable \"id\"\n",
        "main_data.drop(\"id\",axis=1,inplace=True)"
      ],
      "execution_count": null,
      "outputs": []
    },
    {
      "cell_type": "code",
      "metadata": {
        "colab": {
          "base_uri": "https://localhost:8080/"
        },
        "id": "lMix1NY1ulpn",
        "outputId": "3c265c4d-0d38-4176-e043-cf2ca2f7d840"
      },
      "source": [
        "main_data.shape"
      ],
      "execution_count": null,
      "outputs": [
        {
          "output_type": "execute_result",
          "data": {
            "text/plain": [
              "(3390, 16)"
            ]
          },
          "metadata": {
            "tags": []
          },
          "execution_count": 13
        }
      ]
    },
    {
      "cell_type": "markdown",
      "metadata": {
        "id": "Gs4YtmoQuqCB"
      },
      "source": [
        "## Following Dataset has 3390 records and **15 Features** which are responsible for \"Cardiovascular Risk\"."
      ]
    },
    {
      "cell_type": "markdown",
      "metadata": {
        "id": "BQy47myIn0gA"
      },
      "source": [
        "#**Project Work flow**\n",
        "---\n",
        "\n",
        "1. Splitting to Train,Validation and Test sets to avoid Data bleeding.\n",
        "\n",
        "2. Simultaneously Data Cleaning of Train and Test sets\n",
        "\n",
        "3. EDA on features\n",
        "\n",
        "4. Feature cleaning if needed\n",
        "\n",
        "5. Solving Class Imbalancedment problem\n",
        "\n",
        "6. Base Model and Candidate Models\n",
        "\n",
        "7. There Hypertuning\n",
        "\n",
        "8. Bias-Variance tradeoff \n",
        "\n",
        "9. Creating Voting Classifier\n",
        "\n",
        "10. Final Predictions\n",
        "--- \n",
        "\n",
        "\n",
        "\n"
      ]
    },
    {
      "cell_type": "markdown",
      "metadata": {
        "id": "eBbaqaNHcdSk"
      },
      "source": [
        "##**1. To avoid bleeding of data, splitting the whole Dataset in Train , Validation and Test sets.**"
      ]
    },
    {
      "cell_type": "markdown",
      "metadata": {
        "id": "dvysmcqEqpT7"
      },
      "source": [
        "We want to (approximately) keep the proportion of Target values through the training and test sets, Hence we will pass stratify=Target. This will enable stratified splitting:"
      ]
    },
    {
      "cell_type": "code",
      "metadata": {
        "id": "QlpCic8FrGZc"
      },
      "source": [
        "X= main_data.drop('RISK',axis=1)\n",
        "Y= main_data[\"RISK\"]"
      ],
      "execution_count": null,
      "outputs": []
    },
    {
      "cell_type": "code",
      "metadata": {
        "colab": {
          "base_uri": "https://localhost:8080/"
        },
        "id": "lGhA7xZ6wE2T",
        "outputId": "de5cac75-3015-4b1d-d1ae-620d9248dfc1"
      },
      "source": [
        "len(X),len(Y)"
      ],
      "execution_count": null,
      "outputs": [
        {
          "output_type": "execute_result",
          "data": {
            "text/plain": [
              "(3390, 3390)"
            ]
          },
          "metadata": {
            "tags": []
          },
          "execution_count": 15
        }
      ]
    },
    {
      "cell_type": "code",
      "metadata": {
        "id": "ZBsqDJCWbKH8",
        "colab": {
          "base_uri": "https://localhost:8080/"
        },
        "outputId": "d7c70221-e0b7-49d7-fb87-1f39b83b973f"
      },
      "source": [
        "from sklearn.model_selection import train_test_split\n",
        "train_X ,final_testX,train_Y, final_testY = train_test_split(X,Y,test_size=0.2 , stratify=Y,random_state=1) \n",
        "\n",
        "print(\"Train set\",\":\",train_X.shape[0])\n",
        "\n",
        "\n",
        "print(\"Test set\",\":\",final_testX.shape[0])"
      ],
      "execution_count": null,
      "outputs": [
        {
          "output_type": "stream",
          "text": [
            "Train set : 2712\n",
            "Test set : 678\n"
          ],
          "name": "stdout"
        }
      ]
    },
    {
      "cell_type": "markdown",
      "metadata": {
        "id": "ZbnzDMtrwm-9"
      },
      "source": [
        "### Combining the Train features and target set for ease."
      ]
    },
    {
      "cell_type": "code",
      "metadata": {
        "id": "Z3sTfzFFsguD"
      },
      "source": [
        "train_df= pd.concat([train_X,train_Y],axis=1)"
      ],
      "execution_count": null,
      "outputs": []
    },
    {
      "cell_type": "code",
      "metadata": {
        "colab": {
          "base_uri": "https://localhost:8080/",
          "height": 244
        },
        "id": "MiGcWoMZw58F",
        "outputId": "8d432476-2ecc-42eb-8582-1af6e5c8f1f3"
      },
      "source": [
        "print(train_df.shape)\n",
        "train_df.head()"
      ],
      "execution_count": null,
      "outputs": [
        {
          "output_type": "stream",
          "text": [
            "(2712, 16)\n"
          ],
          "name": "stdout"
        },
        {
          "output_type": "execute_result",
          "data": {
            "text/html": [
              "<div>\n",
              "<style scoped>\n",
              "    .dataframe tbody tr th:only-of-type {\n",
              "        vertical-align: middle;\n",
              "    }\n",
              "\n",
              "    .dataframe tbody tr th {\n",
              "        vertical-align: top;\n",
              "    }\n",
              "\n",
              "    .dataframe thead th {\n",
              "        text-align: right;\n",
              "    }\n",
              "</style>\n",
              "<table border=\"1\" class=\"dataframe\">\n",
              "  <thead>\n",
              "    <tr style=\"text-align: right;\">\n",
              "      <th></th>\n",
              "      <th>age</th>\n",
              "      <th>education</th>\n",
              "      <th>sex</th>\n",
              "      <th>is_smoking</th>\n",
              "      <th>cigsPerDay</th>\n",
              "      <th>BPMeds</th>\n",
              "      <th>prevalentStroke</th>\n",
              "      <th>prevalentHyp</th>\n",
              "      <th>diabetes</th>\n",
              "      <th>totChol</th>\n",
              "      <th>sysBP</th>\n",
              "      <th>diaBP</th>\n",
              "      <th>BMI</th>\n",
              "      <th>heartRate</th>\n",
              "      <th>glucose</th>\n",
              "      <th>RISK</th>\n",
              "    </tr>\n",
              "  </thead>\n",
              "  <tbody>\n",
              "    <tr>\n",
              "      <th>542</th>\n",
              "      <td>49</td>\n",
              "      <td>2.0</td>\n",
              "      <td>F</td>\n",
              "      <td>YES</td>\n",
              "      <td>20.0</td>\n",
              "      <td>0.0</td>\n",
              "      <td>0</td>\n",
              "      <td>0</td>\n",
              "      <td>0</td>\n",
              "      <td>229.0</td>\n",
              "      <td>118.5</td>\n",
              "      <td>76.5</td>\n",
              "      <td>21.42</td>\n",
              "      <td>76.0</td>\n",
              "      <td>NaN</td>\n",
              "      <td>0</td>\n",
              "    </tr>\n",
              "    <tr>\n",
              "      <th>2726</th>\n",
              "      <td>51</td>\n",
              "      <td>3.0</td>\n",
              "      <td>M</td>\n",
              "      <td>NO</td>\n",
              "      <td>0.0</td>\n",
              "      <td>0.0</td>\n",
              "      <td>0</td>\n",
              "      <td>0</td>\n",
              "      <td>0</td>\n",
              "      <td>215.0</td>\n",
              "      <td>147.0</td>\n",
              "      <td>96.0</td>\n",
              "      <td>28.59</td>\n",
              "      <td>65.0</td>\n",
              "      <td>100.0</td>\n",
              "      <td>0</td>\n",
              "    </tr>\n",
              "    <tr>\n",
              "      <th>3067</th>\n",
              "      <td>57</td>\n",
              "      <td>1.0</td>\n",
              "      <td>F</td>\n",
              "      <td>YES</td>\n",
              "      <td>1.0</td>\n",
              "      <td>0.0</td>\n",
              "      <td>0</td>\n",
              "      <td>1</td>\n",
              "      <td>0</td>\n",
              "      <td>254.0</td>\n",
              "      <td>146.5</td>\n",
              "      <td>81.0</td>\n",
              "      <td>41.61</td>\n",
              "      <td>72.0</td>\n",
              "      <td>85.0</td>\n",
              "      <td>1</td>\n",
              "    </tr>\n",
              "    <tr>\n",
              "      <th>204</th>\n",
              "      <td>59</td>\n",
              "      <td>4.0</td>\n",
              "      <td>F</td>\n",
              "      <td>NO</td>\n",
              "      <td>0.0</td>\n",
              "      <td>1.0</td>\n",
              "      <td>0</td>\n",
              "      <td>1</td>\n",
              "      <td>0</td>\n",
              "      <td>282.0</td>\n",
              "      <td>135.0</td>\n",
              "      <td>87.0</td>\n",
              "      <td>28.96</td>\n",
              "      <td>72.0</td>\n",
              "      <td>NaN</td>\n",
              "      <td>0</td>\n",
              "    </tr>\n",
              "    <tr>\n",
              "      <th>329</th>\n",
              "      <td>52</td>\n",
              "      <td>1.0</td>\n",
              "      <td>F</td>\n",
              "      <td>NO</td>\n",
              "      <td>0.0</td>\n",
              "      <td>0.0</td>\n",
              "      <td>0</td>\n",
              "      <td>0</td>\n",
              "      <td>0</td>\n",
              "      <td>275.0</td>\n",
              "      <td>112.0</td>\n",
              "      <td>71.0</td>\n",
              "      <td>25.68</td>\n",
              "      <td>80.0</td>\n",
              "      <td>NaN</td>\n",
              "      <td>0</td>\n",
              "    </tr>\n",
              "  </tbody>\n",
              "</table>\n",
              "</div>"
            ],
            "text/plain": [
              "      age  education sex is_smoking  ...    BMI  heartRate  glucose  RISK\n",
              "542    49        2.0   F        YES  ...  21.42       76.0      NaN     0\n",
              "2726   51        3.0   M         NO  ...  28.59       65.0    100.0     0\n",
              "3067   57        1.0   F        YES  ...  41.61       72.0     85.0     1\n",
              "204    59        4.0   F         NO  ...  28.96       72.0      NaN     0\n",
              "329    52        1.0   F         NO  ...  25.68       80.0      NaN     0\n",
              "\n",
              "[5 rows x 16 columns]"
            ]
          },
          "metadata": {
            "tags": []
          },
          "execution_count": 18
        }
      ]
    },
    {
      "cell_type": "code",
      "metadata": {
        "colab": {
          "base_uri": "https://localhost:8080/",
          "height": 226
        },
        "id": "sVkiFkAKxKFg",
        "outputId": "6c99b067-68dd-478b-cfa7-040923e6ec61"
      },
      "source": [
        "final_testX.head()"
      ],
      "execution_count": null,
      "outputs": [
        {
          "output_type": "execute_result",
          "data": {
            "text/html": [
              "<div>\n",
              "<style scoped>\n",
              "    .dataframe tbody tr th:only-of-type {\n",
              "        vertical-align: middle;\n",
              "    }\n",
              "\n",
              "    .dataframe tbody tr th {\n",
              "        vertical-align: top;\n",
              "    }\n",
              "\n",
              "    .dataframe thead th {\n",
              "        text-align: right;\n",
              "    }\n",
              "</style>\n",
              "<table border=\"1\" class=\"dataframe\">\n",
              "  <thead>\n",
              "    <tr style=\"text-align: right;\">\n",
              "      <th></th>\n",
              "      <th>age</th>\n",
              "      <th>education</th>\n",
              "      <th>sex</th>\n",
              "      <th>is_smoking</th>\n",
              "      <th>cigsPerDay</th>\n",
              "      <th>BPMeds</th>\n",
              "      <th>prevalentStroke</th>\n",
              "      <th>prevalentHyp</th>\n",
              "      <th>diabetes</th>\n",
              "      <th>totChol</th>\n",
              "      <th>sysBP</th>\n",
              "      <th>diaBP</th>\n",
              "      <th>BMI</th>\n",
              "      <th>heartRate</th>\n",
              "      <th>glucose</th>\n",
              "    </tr>\n",
              "  </thead>\n",
              "  <tbody>\n",
              "    <tr>\n",
              "      <th>1532</th>\n",
              "      <td>42</td>\n",
              "      <td>2.0</td>\n",
              "      <td>M</td>\n",
              "      <td>YES</td>\n",
              "      <td>30.0</td>\n",
              "      <td>0.0</td>\n",
              "      <td>0</td>\n",
              "      <td>0</td>\n",
              "      <td>0</td>\n",
              "      <td>256.0</td>\n",
              "      <td>111.0</td>\n",
              "      <td>62.0</td>\n",
              "      <td>21.67</td>\n",
              "      <td>74.0</td>\n",
              "      <td>74.0</td>\n",
              "    </tr>\n",
              "    <tr>\n",
              "      <th>818</th>\n",
              "      <td>60</td>\n",
              "      <td>1.0</td>\n",
              "      <td>M</td>\n",
              "      <td>YES</td>\n",
              "      <td>9.0</td>\n",
              "      <td>0.0</td>\n",
              "      <td>0</td>\n",
              "      <td>0</td>\n",
              "      <td>0</td>\n",
              "      <td>166.0</td>\n",
              "      <td>141.0</td>\n",
              "      <td>81.0</td>\n",
              "      <td>19.42</td>\n",
              "      <td>67.0</td>\n",
              "      <td>101.0</td>\n",
              "    </tr>\n",
              "    <tr>\n",
              "      <th>2830</th>\n",
              "      <td>55</td>\n",
              "      <td>2.0</td>\n",
              "      <td>M</td>\n",
              "      <td>NO</td>\n",
              "      <td>0.0</td>\n",
              "      <td>0.0</td>\n",
              "      <td>0</td>\n",
              "      <td>0</td>\n",
              "      <td>0</td>\n",
              "      <td>309.0</td>\n",
              "      <td>126.0</td>\n",
              "      <td>88.0</td>\n",
              "      <td>26.77</td>\n",
              "      <td>68.0</td>\n",
              "      <td>NaN</td>\n",
              "    </tr>\n",
              "    <tr>\n",
              "      <th>1202</th>\n",
              "      <td>45</td>\n",
              "      <td>4.0</td>\n",
              "      <td>M</td>\n",
              "      <td>YES</td>\n",
              "      <td>5.0</td>\n",
              "      <td>0.0</td>\n",
              "      <td>0</td>\n",
              "      <td>1</td>\n",
              "      <td>0</td>\n",
              "      <td>227.0</td>\n",
              "      <td>166.0</td>\n",
              "      <td>102.0</td>\n",
              "      <td>29.32</td>\n",
              "      <td>58.0</td>\n",
              "      <td>85.0</td>\n",
              "    </tr>\n",
              "    <tr>\n",
              "      <th>1053</th>\n",
              "      <td>58</td>\n",
              "      <td>3.0</td>\n",
              "      <td>F</td>\n",
              "      <td>NO</td>\n",
              "      <td>0.0</td>\n",
              "      <td>0.0</td>\n",
              "      <td>0</td>\n",
              "      <td>1</td>\n",
              "      <td>0</td>\n",
              "      <td>287.0</td>\n",
              "      <td>144.0</td>\n",
              "      <td>84.0</td>\n",
              "      <td>21.81</td>\n",
              "      <td>69.0</td>\n",
              "      <td>68.0</td>\n",
              "    </tr>\n",
              "  </tbody>\n",
              "</table>\n",
              "</div>"
            ],
            "text/plain": [
              "      age  education sex is_smoking  ...  diaBP    BMI  heartRate  glucose\n",
              "1532   42        2.0   M        YES  ...   62.0  21.67       74.0     74.0\n",
              "818    60        1.0   M        YES  ...   81.0  19.42       67.0    101.0\n",
              "2830   55        2.0   M         NO  ...   88.0  26.77       68.0      NaN\n",
              "1202   45        4.0   M        YES  ...  102.0  29.32       58.0     85.0\n",
              "1053   58        3.0   F         NO  ...   84.0  21.81       69.0     68.0\n",
              "\n",
              "[5 rows x 15 columns]"
            ]
          },
          "metadata": {
            "tags": []
          },
          "execution_count": 19
        }
      ]
    },
    {
      "cell_type": "code",
      "metadata": {
        "colab": {
          "base_uri": "https://localhost:8080/"
        },
        "id": "f81iIweIEsRW",
        "outputId": "2a1476b1-45bf-42c5-f3d0-2851ed8064c1"
      },
      "source": [
        "print(train_df.value_counts(\"RISK\")/train_df.shape[0])\n",
        "\n",
        "print(final_testY.value_counts()/final_testY.shape[0])"
      ],
      "execution_count": null,
      "outputs": [
        {
          "output_type": "stream",
          "text": [
            "RISK\n",
            "0    0.849189\n",
            "1    0.150811\n",
            "dtype: float64\n",
            "0    0.849558\n",
            "1    0.150442\n",
            "Name: RISK, dtype: float64\n"
          ],
          "name": "stdout"
        }
      ]
    },
    {
      "cell_type": "markdown",
      "metadata": {
        "id": "mcKht8aHFR4A"
      },
      "source": [
        "Looks our data perfectly stratify"
      ]
    },
    {
      "cell_type": "markdown",
      "metadata": {
        "id": "uob7ECN9xlwL"
      },
      "source": [
        "##**2.Simultaneous Data Cleaning and Null value imputation in both train and test**\n",
        "---\n",
        "* Identify the categorical and numerical columns to check the data distribution\n",
        "##### Data Preprocessing class with the following functions using **KNNImputer** for continous and **SimpleImputer** for Categories :\n",
        "<ul>\n",
        "    <li><b>missing_value_continuous</b>: function to handle missing values of continuous variables</li>\n",
        "    <li><b>missing_value_categorical</b>: function to handle missing values of categorical variables</li>\n",
        "    <li><b>outlier_treatment</b>: function to handle continuous outliers in the dataset</li>\n",
        "</ul>"
      ]
    },
    {
      "cell_type": "markdown",
      "metadata": {
        "id": "-8z10lHLJppW"
      },
      "source": [
        "![image.png](data:image/png;base64,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)"
      ]
    },
    {
      "cell_type": "code",
      "metadata": {
        "colab": {
          "base_uri": "https://localhost:8080/"
        },
        "id": "SsX_qXzeW6b5",
        "outputId": "76b66846-41ab-4d22-b2e9-d0f606e1896e"
      },
      "source": [
        "train_df.info()"
      ],
      "execution_count": null,
      "outputs": [
        {
          "output_type": "stream",
          "text": [
            "<class 'pandas.core.frame.DataFrame'>\n",
            "Int64Index: 2712 entries, 542 to 682\n",
            "Data columns (total 16 columns):\n",
            " #   Column           Non-Null Count  Dtype  \n",
            "---  ------           --------------  -----  \n",
            " 0   age              2712 non-null   int64  \n",
            " 1   education        2643 non-null   float64\n",
            " 2   sex              2712 non-null   object \n",
            " 3   is_smoking       2712 non-null   object \n",
            " 4   cigsPerDay       2695 non-null   float64\n",
            " 5   BPMeds           2679 non-null   float64\n",
            " 6   prevalentStroke  2712 non-null   int64  \n",
            " 7   prevalentHyp     2712 non-null   int64  \n",
            " 8   diabetes         2712 non-null   int64  \n",
            " 9   totChol          2681 non-null   float64\n",
            " 10  sysBP            2712 non-null   float64\n",
            " 11  diaBP            2712 non-null   float64\n",
            " 12  BMI              2701 non-null   float64\n",
            " 13  heartRate        2711 non-null   float64\n",
            " 14  glucose          2473 non-null   float64\n",
            " 15  RISK             2712 non-null   int64  \n",
            "dtypes: float64(9), int64(5), object(2)\n",
            "memory usage: 360.2+ KB\n"
          ],
          "name": "stdout"
        }
      ]
    },
    {
      "cell_type": "code",
      "metadata": {
        "id": "ApkeDua2V9_Q"
      },
      "source": [
        "column_datatypes= train_df.drop(\"RISK\",axis=1).dtypes\n",
        "categorical_columns=list(column_datatypes[column_datatypes==\"object\"].index.values)\n",
        "continous_columns=list(column_datatypes[(column_datatypes==\"int64\") | (column_datatypes==\"float64\") ].index.values)"
      ],
      "execution_count": null,
      "outputs": []
    },
    {
      "cell_type": "code",
      "metadata": {
        "id": "341iU3K5xXBV"
      },
      "source": [
        "class Data_preprocessing:\n",
        "  def __init__(self,train_data):\n",
        "        self.train_data = train_data\n",
        "\n",
        "  def missing_value_continous(self,columns_with_specific_type,neighbors=3):\n",
        "    knn_imputer= KNNImputer(n_neighbors=neighbors)\n",
        "    knn_imputer.fit(self.train_data[columns_with_specific_type])\n",
        "    self.train_data[columns_with_specific_type]= knn_imputer.transform(self.train_data[columns_with_specific_type])\n",
        "    return self.train_data\n",
        "\n",
        "  def missing_value_categorical(self,columns_with_specific_type,imputation_type=\"most_frequent\"):\n",
        "   most_frequent= SimpleImputer(strategy=\"most_frequent\")\n",
        "   most_frequent.fit(self.train_data[columns_with_specific_type])\n",
        "   self.train_data[columns_with_specific_type]= most_frequent.transform(self.train_data[columns_with_specific_type])\n",
        "   return self.train_data\n",
        "\n",
        "  def outlier_treatment(self,Q1,Q3,IQR,columns_with_outlier,action):\n",
        "     ''' \n",
        "     Finding Outliers and Imputing them by mean/median to avoid loss of data\n",
        "     '''\n",
        "     if action==\"median\":\n",
        "       for i in range(len(columns_with_outlier)):\n",
        "         column_name= columns_with_outlier[i]\n",
        "         meadian_outlier=np.median(self.train_data[column_name])\n",
        "         self.train_data.loc[self.train_data[((self.train_data[column_name]<(Q1[column_name]- (1.5*IQR[column_name])))| (self.train_data[column_name]>(Q3[column_name]+(1.5*IQR[column_name]))) )].index,column_name]=meadian_outlier\n",
        "\n",
        "  \n",
        "     if action== \"mean\":\n",
        "       for i in range(len(columns_with_outlier)):\n",
        "         column_name= columns_with_outlier[i]\n",
        "         mean_outlier=np.mean(self.train_data[column_name])\n",
        "         self.train_data.loc[self.train_data[((self.train_data[column_name]<(Q1[column_name]- (1.5*IQR[column_name])))| (self.train_data[column_name]>(Q3[column_name]+(1.5*IQR[column_name]))) )].index,column_name]=mean_outlier\n",
        "     return self.train_data\n"
      ],
      "execution_count": null,
      "outputs": []
    },
    {
      "cell_type": "code",
      "metadata": {
        "id": "GYWOheNcT-hP"
      },
      "source": [
        "dlist= [train_df,final_testX]\n",
        "for df in dlist:\n",
        "  #create class object\n",
        "  dat= Data_preprocessing(df)\n",
        "  df= dat.missing_value_continous(continous_columns)\n",
        "  df= dat.missing_value_categorical(categorical_columns)"
      ],
      "execution_count": null,
      "outputs": []
    },
    {
      "cell_type": "code",
      "metadata": {
        "colab": {
          "base_uri": "https://localhost:8080/"
        },
        "id": "Lh4p4S8_YYtz",
        "outputId": "cb3e94b9-88f8-4908-bd7a-12ed57ea36ec"
      },
      "source": [
        "print(train_df.isnull().sum())\n",
        "print('-'*100)\n",
        "print(final_testX.isnull().sum())"
      ],
      "execution_count": null,
      "outputs": [
        {
          "output_type": "stream",
          "text": [
            "age                0\n",
            "education          0\n",
            "sex                0\n",
            "is_smoking         0\n",
            "cigsPerDay         0\n",
            "BPMeds             0\n",
            "prevalentStroke    0\n",
            "prevalentHyp       0\n",
            "diabetes           0\n",
            "totChol            0\n",
            "sysBP              0\n",
            "diaBP              0\n",
            "BMI                0\n",
            "heartRate          0\n",
            "glucose            0\n",
            "RISK               0\n",
            "dtype: int64\n",
            "----------------------------------------------------------------------------------------------------\n",
            "age                0\n",
            "education          0\n",
            "sex                0\n",
            "is_smoking         0\n",
            "cigsPerDay         0\n",
            "BPMeds             0\n",
            "prevalentStroke    0\n",
            "prevalentHyp       0\n",
            "diabetes           0\n",
            "totChol            0\n",
            "sysBP              0\n",
            "diaBP              0\n",
            "BMI                0\n",
            "heartRate          0\n",
            "glucose            0\n",
            "dtype: int64\n"
          ],
          "name": "stdout"
        }
      ]
    },
    {
      "cell_type": "markdown",
      "metadata": {
        "id": "zj2ee3H0Y3Xp"
      },
      "source": [
        "## **Handling Outliers**"
      ]
    },
    {
      "cell_type": "markdown",
      "metadata": {
        "id": "SCAwYO7NaE92"
      },
      "source": [
        "## Outliers in train set"
      ]
    },
    {
      "cell_type": "code",
      "metadata": {
        "colab": {
          "base_uri": "https://localhost:8080/",
          "height": 443
        },
        "id": "C6Rpwem0Yd33",
        "outputId": "489f1ed3-36c9-4b1a-cbd0-dad0aaafa376"
      },
      "source": [
        "plt.figure(figsize=(10,6))\n",
        "plt.xticks(rotation=90)\n",
        "ax= sns.boxplot(data=train_df[continous_columns],orient='v',palette='Set2')"
      ],
      "execution_count": null,
      "outputs": [
        {
          "output_type": "display_data",
          "data": {
            "image/png": "[encoded data removed]",
            "text/plain": [
              "<Figure size 720x432 with 1 Axes>"
            ]
          },
          "metadata": {
            "tags": [],
            "needs_background": "light"
          }
        }
      ]
    },
    {
      "cell_type": "code",
      "metadata": {
        "id": "-bHPusG-bWVY"
      },
      "source": [
        "train_outliers= [\"cigsPerDay\",\"totChol\",\"sysBP\",\"diaBP\",\"BMI\",\"heartRate\",\"glucose\"]"
      ],
      "execution_count": null,
      "outputs": []
    },
    {
      "cell_type": "markdown",
      "metadata": {
        "id": "bZDUhocbaIym"
      },
      "source": [
        "## Outliers in test set"
      ]
    },
    {
      "cell_type": "code",
      "metadata": {
        "colab": {
          "base_uri": "https://localhost:8080/",
          "height": 443
        },
        "id": "vz-rToYtZrPv",
        "outputId": "a15aaa7a-223a-4677-afd7-09a3c37bbece"
      },
      "source": [
        "plt.figure(figsize=(10,6))\n",
        "plt.xticks(rotation=90)\n",
        "ax= sns.boxplot(data=final_testX[continous_columns],orient='v',palette='Set2')"
      ],
      "execution_count": null,
      "outputs": [
        {
          "output_type": "display_data",
          "data": {
            "image/png": "[encoded data removed]",
            "text/plain": [
              "<Figure size 720x432 with 1 Axes>"
            ]
          },
          "metadata": {
            "tags": [],
            "needs_background": "light"
          }
        }
      ]
    },
    {
      "cell_type": "code",
      "metadata": {
        "id": "MTdOXtyBaOPl"
      },
      "source": [
        "test_outliers=train_outliers"
      ],
      "execution_count": null,
      "outputs": []
    },
    {
      "cell_type": "markdown",
      "metadata": {
        "id": "IH-UqZIJhLEx"
      },
      "source": [
        "### both have same outlier columns"
      ]
    },
    {
      "cell_type": "code",
      "metadata": {
        "id": "jvHYBulnco1_"
      },
      "source": [
        "#compute outlier treatment\n",
        "ldf=[train_df,final_testX]\n",
        "for df in ldf:\n",
        "  dat= Data_preprocessing(df)\n",
        "  Q1= df[continous_columns].quantile(0.25)\n",
        "  Q3= df[continous_columns].quantile(0.75)\n",
        "  IQR= (Q3-Q1)\n",
        "  df= dat.outlier_treatment(Q1,Q3,IQR,train_outliers,\"median\")\n"
      ],
      "execution_count": null,
      "outputs": []
    },
    {
      "cell_type": "markdown",
      "metadata": {
        "id": "IiLyTiF_0oGz"
      },
      "source": [
        "##Treatment Done!"
      ]
    },
    {
      "cell_type": "code",
      "metadata": {
        "colab": {
          "base_uri": "https://localhost:8080/",
          "height": 443
        },
        "id": "VYF27D0ihTC5",
        "outputId": "ecc4b719-12ef-4c3f-fec4-7c5c844dc2e2"
      },
      "source": [
        "plt.figure(figsize=(10,6))\n",
        "plt.xticks(rotation=90)\n",
        "ax= sns.boxplot(data=train_df[continous_columns],orient='v',palette='Set2')"
      ],
      "execution_count": null,
      "outputs": [
        {
          "output_type": "display_data",
          "data": {
            "image/png": "[encoded data removed]",
            "text/plain": [
              "<Figure size 720x432 with 1 Axes>"
            ]
          },
          "metadata": {
            "tags": [],
            "needs_background": "light"
          }
        }
      ]
    },
    {
      "cell_type": "markdown",
      "metadata": {
        "id": "W9jSrKl9hoFx"
      },
      "source": [
        "## **3. EDA on features to find some pattern using training data set**\n",
        "---"
      ]
    },
    {
      "cell_type": "markdown",
      "metadata": {
        "id": "Ay1wCaknicct"
      },
      "source": [
        "###**AGE and Sex**"
      ]
    },
    {
      "cell_type": "code",
      "metadata": {
        "colab": {
          "base_uri": "https://localhost:8080/"
        },
        "id": "_l6ExaBdlOBa",
        "outputId": "08767496-d033-4895-e3c5-59b969dcd53e"
      },
      "source": [
        "train_df['sex'].unique()"
      ],
      "execution_count": null,
      "outputs": [
        {
          "output_type": "execute_result",
          "data": {
            "text/plain": [
              "array(['F', 'M'], dtype=object)"
            ]
          },
          "metadata": {
            "tags": []
          },
          "execution_count": 32
        }
      ]
    },
    {
      "cell_type": "code",
      "metadata": {
        "colab": {
          "base_uri": "https://localhost:8080/",
          "height": 471
        },
        "id": "FCsPpd-kheep",
        "outputId": "8c233be5-67d5-46b3-c357-77ea53f6a541"
      },
      "source": [
        "at_risk = \"At risk\"\n",
        "no_risk= \"No risk\"\n",
        "fig , axes= plt.subplots(nrows=1,ncols=3,figsize=(20,8))\n",
        "ax= sns.distplot(train_df[train_df['RISK']==1].age,bins=18,label=at_risk,ax=axes[0],color='r',kde=False)\n",
        "ax= sns.distplot(train_df[train_df['RISK']==0].age,bins=40,label=no_risk,ax=axes[0],color='g' ,kde=False)\n",
        "ax.legend()\n",
        "ax.set_title(\"Given Population\")\n",
        "women= train_df[train_df['sex']==\"F\"]\n",
        "men= train_df[train_df['sex']==\"M\"]\n",
        "ax= sns.distplot(women[women['RISK']==1].age,bins=18,label=at_risk,ax=axes[1],color='r',kde=False)\n",
        "ax= sns.distplot(women[women['RISK']==0].age,bins=40,label=no_risk,ax=axes[1],color='g',kde=False)\n",
        "ax.legend()\n",
        "ax.set_title(\"Female\")\n",
        "ax= sns.distplot(men[men['RISK']==1].age,bins=18,label=at_risk,ax=axes[2],color='r',kde=False)\n",
        "ax= sns.distplot(men[men['RISK']==0].age,bins=40,label=no_risk,ax=axes[2],color='g',kde=False)\n",
        "ax.legend()\n",
        "ax.set_title(\"Male\")\n",
        "\n"
      ],
      "execution_count": null,
      "outputs": [
        {
          "output_type": "execute_result",
          "data": {
            "text/plain": [
              "Text(0.5, 1.0, 'Male')"
            ]
          },
          "metadata": {
            "tags": []
          },
          "execution_count": 33
        },
        {
          "output_type": "display_data",
          "data": {
            "image/png": "[encoded data removed]",
            "text/plain": [
              "<Figure size 1440x576 with 3 Axes>"
            ]
          },
          "metadata": {
            "tags": [],
            "needs_background": "light"
          }
        }
      ]
    },
    {
      "cell_type": "markdown",
      "metadata": {
        "id": "K8F-iB5zoGMr"
      },
      "source": [
        "##**INSIGHTS :**\n",
        "From the above graphs we can say that:\n",
        "1. Both Women and Men lying in Age group of 50-52 have high risk of heart disease.\n",
        "2. Men lying in age group 40-42 are at risk.\n",
        "3. Men having age more than 65 are also at risk."
      ]
    },
    {
      "cell_type": "markdown",
      "metadata": {
        "id": "sm8BIOKeurdS"
      },
      "source": [
        "## **Age and Smoking**"
      ]
    },
    {
      "cell_type": "code",
      "metadata": {
        "colab": {
          "base_uri": "https://localhost:8080/",
          "height": 473
        },
        "id": "f5NgKux2n8Py",
        "outputId": "7d59a0e9-b36a-4f80-ba03-ab56f3c98b3e"
      },
      "source": [
        "at_risk = \"At risk\"\n",
        "no_risk= \"No risk\"\n",
        "smoking= train_df[train_df['is_smoking']==\"YES\"]\n",
        "non_smoking= train_df[train_df['is_smoking']==\"NO\"]\n",
        "fig , axes= plt.subplots(nrows=1,ncols=2,figsize=(20,8))\n",
        "ax= sns.distplot(smoking[train_df['RISK']==1].age,bins=18,label=at_risk,ax=axes[0],color='r',kde=False)\n",
        "ax= sns.distplot(smoking[train_df['RISK']==0].age,bins=40,label=no_risk,ax=axes[0],color='g',kde=False)\n",
        "ax.legend()\n",
        "ax.set_title(\"Smokers\")\n",
        "\n",
        "ax= sns.distplot(non_smoking[train_df['RISK']==1].age,bins=18,label=at_risk,ax=axes[1],color='r',kde=False)\n",
        "ax= sns.distplot(non_smoking[train_df['RISK']==0].age,bins=40,label=no_risk,ax=axes[1],color='g',kde=False)\n",
        "ax.legend()\n",
        "ax.set_title(\"NonSmokers\")\n",
        "\n",
        "\n",
        "\n"
      ],
      "execution_count": null,
      "outputs": [
        {
          "output_type": "execute_result",
          "data": {
            "text/plain": [
              "Text(0.5, 1.0, 'NonSmokers')"
            ]
          },
          "metadata": {
            "tags": []
          },
          "execution_count": 34
        },
        {
          "output_type": "display_data",
          "data": {
            "image/png": "[encoded data removed]",
            "text/plain": [
              "<Figure size 1440x576 with 2 Axes>"
            ]
          },
          "metadata": {
            "tags": [],
            "needs_background": "light"
          }
        }
      ]
    },
    {
      "cell_type": "markdown",
      "metadata": {
        "id": "-AT-u22-LwVY"
      },
      "source": [
        "##**INSIGHTS:**\n",
        "Again we see Risk is High in same age group despite they are Smokers or not."
      ]
    },
    {
      "cell_type": "code",
      "metadata": {
        "colab": {
          "base_uri": "https://localhost:8080/"
        },
        "id": "ILzZX3gRuR3_",
        "outputId": "3ccf1221-a2fe-4a09-8b89-d9f4e999e761"
      },
      "source": [
        "train_df['is_smoking'].unique()"
      ],
      "execution_count": null,
      "outputs": [
        {
          "output_type": "execute_result",
          "data": {
            "text/plain": [
              "array(['YES', 'NO'], dtype=object)"
            ]
          },
          "metadata": {
            "tags": []
          },
          "execution_count": 35
        }
      ]
    },
    {
      "cell_type": "markdown",
      "metadata": {
        "id": "0CtfhWEnMzfd"
      },
      "source": [
        "##**Cigs(Cigerettes smoke by a Person per day) ,Sex,RISK**"
      ]
    },
    {
      "cell_type": "code",
      "metadata": {
        "colab": {
          "base_uri": "https://localhost:8080/"
        },
        "id": "sTD5Wsm1PVTw",
        "outputId": "f4fa48dc-9adc-462b-885d-9d5d670f9797"
      },
      "source": [
        "train_df.columns"
      ],
      "execution_count": null,
      "outputs": [
        {
          "output_type": "execute_result",
          "data": {
            "text/plain": [
              "Index(['age', 'education', 'sex', 'is_smoking', 'cigsPerDay', 'BPMeds',\n",
              "       'prevalentStroke', 'prevalentHyp', 'diabetes', 'totChol', 'sysBP',\n",
              "       'diaBP', 'BMI', 'heartRate', 'glucose', 'RISK'],\n",
              "      dtype='object')"
            ]
          },
          "metadata": {
            "tags": []
          },
          "execution_count": 36
        }
      ]
    },
    {
      "cell_type": "code",
      "metadata": {
        "id": "CMn8OVklQMjc"
      },
      "source": [
        "train_df['cigsPerDay']=train_df['cigsPerDay'].astype(int)"
      ],
      "execution_count": null,
      "outputs": []
    },
    {
      "cell_type": "code",
      "metadata": {
        "id": "fGKLB5VcT8-e"
      },
      "source": [
        "final_testX['cigsPerDay']=final_testX['cigsPerDay'].astype(int)"
      ],
      "execution_count": null,
      "outputs": []
    },
    {
      "cell_type": "code",
      "metadata": {
        "colab": {
          "base_uri": "https://localhost:8080/",
          "height": 344
        },
        "id": "-x7AxlqFNZrR",
        "outputId": "0c8d615b-549b-4ed0-f39c-221ad17b03f1"
      },
      "source": [
        "g=sns.factorplot('cigsPerDay','RISK',kind='bar',\n",
        "                    data=train_df,hue='sex',aspect=3)\n",
        "g=g.set_ylabels(\"RISK Probability\")"
      ],
      "execution_count": null,
      "outputs": [
        {
          "output_type": "display_data",
          "data": {
            "image/png": "[encoded data removed]",
            "text/plain": [
              "<Figure size 1124.62x360 with 1 Axes>"
            ]
          },
          "metadata": {
            "tags": [],
            "needs_background": "light"
          }
        }
      ]
    },
    {
      "cell_type": "markdown",
      "metadata": {
        "id": "BLA25ybFQ-L-"
      },
      "source": [
        "## **INSIGHTS:**\n",
        "1. Both Male,Female who are non smoker or smoke less than 4 cigs per day have very low risk of Heart disease\n",
        "\n",
        "2. All those men who smoke 7 cigs definitely got a heart disease."
      ]
    },
    {
      "cell_type": "markdown",
      "metadata": {
        "id": "OLsKkBlAULbr"
      },
      "source": [
        "### Converting following columns : **'BPMeds' ,'prevalentStroke', 'prevalentHyp', 'diabetes'** into categorical column"
      ]
    },
    {
      "cell_type": "code",
      "metadata": {
        "id": "jaMTOKetT0yI"
      },
      "source": [
        "ldf= [train_df,final_testX]\n",
        "tocat=['prevalentStroke', 'prevalentHyp', 'diabetes']\n",
        "for df in ldf:\n",
        "  for col in tocat:\n",
        "    df[col]=df[col].astype('category')"
      ],
      "execution_count": null,
      "outputs": []
    },
    {
      "cell_type": "markdown",
      "metadata": {
        "id": "taRoIkDGSzKI"
      },
      "source": [
        "## **Diabetes** "
      ]
    },
    {
      "cell_type": "code",
      "metadata": {
        "colab": {
          "base_uri": "https://localhost:8080/",
          "height": 585
        },
        "id": "mMyJlOsBS3-Q",
        "outputId": "2cfd346e-deff-469d-f61b-5c00a5672bc4"
      },
      "source": [
        "grid= sns.FacetGrid(train_df,col='RISK',row='diabetes',size=4,aspect=1.2,palette='viridis')\n",
        "grid.map(plt.hist,'age',alpha=.8,bins=20)\n",
        "grid.add_legend();"
      ],
      "execution_count": null,
      "outputs": [
        {
          "output_type": "display_data",
          "data": {
            "image/png": "[encoded data removed]",
            "text/plain": [
              "<Figure size 699.2x576 with 4 Axes>"
            ]
          },
          "metadata": {
            "tags": [],
            "needs_background": "light"
          }
        }
      ]
    },
    {
      "cell_type": "markdown",
      "metadata": {
        "id": "jlI7dypIWoQx"
      },
      "source": [
        "##**INSIGHTS:**\n",
        "In general People who don't have diabetes also don't have Heart disease."
      ]
    },
    {
      "cell_type": "markdown",
      "metadata": {
        "id": "iRRqlKn6SLIo"
      },
      "source": [
        "##**Numerical Variables VS Risk**"
      ]
    },
    {
      "cell_type": "code",
      "metadata": {
        "colab": {
          "base_uri": "https://localhost:8080/"
        },
        "id": "4yPzy7BJSUxw",
        "outputId": "5d7c5646-1fe3-4d4d-83c4-458b75f32480"
      },
      "source": [
        "numerical_col=continous_columns[7:]\n",
        "print(numerical_col)"
      ],
      "execution_count": null,
      "outputs": [
        {
          "output_type": "stream",
          "text": [
            "['totChol', 'sysBP', 'diaBP', 'BMI', 'heartRate', 'glucose']\n"
          ],
          "name": "stdout"
        }
      ]
    },
    {
      "cell_type": "code",
      "metadata": {
        "colab": {
          "base_uri": "https://localhost:8080/",
          "height": 309
        },
        "id": "T2K2PZ5vXZiz",
        "outputId": "fad87d2d-4195-4820-9cdf-41bacd9a6b03"
      },
      "source": [
        "#correlation matrix between numerical variables and RISK of getting heart disease\n",
        "numerical_col.append('RISK')\n",
        "g= sns.heatmap(train_df[numerical_col].corr(),annot=True,fmt='.2f',cmap='coolwarm')\n"
      ],
      "execution_count": null,
      "outputs": [
        {
          "output_type": "display_data",
          "data": {
            "image/png": "[encoded data removed]",
            "text/plain": [
              "<Figure size 432x288 with 2 Axes>"
            ]
          },
          "metadata": {
            "tags": [],
            "needs_background": "light"
          }
        }
      ]
    },
    {
      "cell_type": "markdown",
      "metadata": {
        "id": "LyI3_V6bZA3X"
      },
      "source": [
        "\"diaBP\" and \"sysBP\" are highly correlated\n",
        "1. diaBP is Diastolic Pressure\n",
        "2. sysBP is Systolic Pressure\n",
        "\n",
        "We generally while measuring our BP look for there Ratio \n",
        "e.g a healthy person has 120/80 \n",
        "\n",
        "##Deriving new feature **AvgBP** = **sysBP+diaBP/2** and dropping diaBP\n"
      ]
    },
    {
      "cell_type": "code",
      "metadata": {
        "id": "N-ldB1QCYLo3"
      },
      "source": [
        "X_df=train_df.copy()\n",
        "Xt_df=final_testX.copy()"
      ],
      "execution_count": null,
      "outputs": []
    },
    {
      "cell_type": "code",
      "metadata": {
        "id": "AtaPezTaaoik"
      },
      "source": [
        "ldf=[train_df,final_testX]\n",
        "for df in ldf:\n",
        "  df['bp_ratio']= round(df[\"sysBP\"]/df[\"diaBP\"],2)\n",
        "  #df[\"avgBP\"]= round((df[\"sysBP\"]+df[\"diaBP\"])/2,2)\n",
        "  df.drop(\"diaBP\",axis=1,inplace=True)\n",
        "  #df.drop(\"sysBP\",axis=1,inplace=True)\n",
        "  "
      ],
      "execution_count": null,
      "outputs": []
    },
    {
      "cell_type": "code",
      "metadata": {
        "id": "zRenhwrkbk2x"
      },
      "source": [
        "numerical_col=['RISK','totChol', 'bp_ratio','sysBP', 'BMI', 'heartRate', 'glucose']"
      ],
      "execution_count": null,
      "outputs": []
    },
    {
      "cell_type": "code",
      "metadata": {
        "colab": {
          "base_uri": "https://localhost:8080/",
          "height": 309
        },
        "id": "UWtRlmOFbfc1",
        "outputId": "31807445-eea5-40b9-a0e0-0ca205b04a86"
      },
      "source": [
        "#correlation matrix between numerical variables and RISK of getting heart disease\n",
        "g= sns.heatmap(train_df[numerical_col].corr(),annot=True,fmt='.2f',cmap='coolwarm')\n"
      ],
      "execution_count": null,
      "outputs": [
        {
          "output_type": "display_data",
          "data": {
            "image/png": "[encoded data removed]",
            "text/plain": [
              "<Figure size 432x288 with 2 Axes>"
            ]
          },
          "metadata": {
            "tags": [],
            "needs_background": "light"
          }
        }
      ]
    },
    {
      "cell_type": "markdown",
      "metadata": {
        "id": "PJ76iWWMcO1_"
      },
      "source": [
        "Apparently there is no direct linear relationship between the numerical features and Risk of getting heart disease."
      ]
    },
    {
      "cell_type": "markdown",
      "metadata": {
        "id": "hQfJgiizeJhL"
      },
      "source": [
        "## Checking for **'prevalentStroke'** and **'prevalentHyp'** cases with respect to Risk of getting disease."
      ]
    },
    {
      "cell_type": "code",
      "metadata": {
        "colab": {
          "base_uri": "https://localhost:8080/",
          "height": 749
        },
        "id": "U6Dxv3r2dOWj",
        "outputId": "4fd60d9e-8cc1-4401-da45-8d5a5b7d9631"
      },
      "source": [
        "ax=sns.factorplot('prevalentStroke','RISK',kind='bar',\n",
        "                    data=train_df,size=5,aspect=0.4)\n",
        "ax=ax.set_ylabels(\"RISK Probability\")\n",
        "ax=sns.factorplot('prevalentHyp','RISK',kind='bar',\n",
        "                    data=train_df,size=5,aspect=0.4)\n",
        "ax=ax.set_ylabels(\"RISK Probability\")"
      ],
      "execution_count": null,
      "outputs": [
        {
          "output_type": "display_data",
          "data": {
            "image/png": "[encoded data removed]",
            "text/plain": [
              "<Figure size 144x360 with 1 Axes>"
            ]
          },
          "metadata": {
            "tags": [],
            "needs_background": "light"
          }
        },
        {
          "output_type": "display_data",
          "data": {
            "image/png": "[encoded data removed]",
            "text/plain": [
              "<Figure size 144x360 with 1 Axes>"
            ]
          },
          "metadata": {
            "tags": [],
            "needs_background": "light"
          }
        }
      ]
    },
    {
      "cell_type": "markdown",
      "metadata": {
        "id": "RD9_m7JahDfE"
      },
      "source": [
        "## **INSIGHTS:** \n",
        "People who had earlier got a stroke and Hypertension have  high chance of getting the heart disease."
      ]
    },
    {
      "cell_type": "markdown",
      "metadata": {
        "id": "nnKeUxxAuYrg"
      },
      "source": [
        "## lets check how this Feature **Education** is related with heart disease"
      ]
    },
    {
      "cell_type": "code",
      "metadata": {
        "id": "1d8zJUTovFj7",
        "colab": {
          "base_uri": "https://localhost:8080/",
          "height": 313
        },
        "outputId": "3dc10211-90ea-4045-b4f2-ca118a3d7f42"
      },
      "source": [
        "at_risk = \"At risk\"\n",
        "no_risk= \"No risk\"\n",
        "ax=sns.distplot(train_df[train_df['RISK']==1].education,bins=18,label=at_risk,color='b',kde=False)\n",
        "ax=sns.distplot(train_df[train_df['RISK']==0].education,bins=18,label=no_risk,color='g',kde=False)\n",
        "ax.legend()\n",
        "ax.set_title('Education')\n"
      ],
      "execution_count": null,
      "outputs": [
        {
          "output_type": "execute_result",
          "data": {
            "text/plain": [
              "Text(0.5, 1.0, 'Education')"
            ]
          },
          "metadata": {
            "tags": []
          },
          "execution_count": 49
        },
        {
          "output_type": "display_data",
          "data": {
            "image/png": "[encoded data removed]",
            "text/plain": [
              "<Figure size 432x288 with 1 Axes>"
            ]
          },
          "metadata": {
            "tags": [],
            "needs_background": "light"
          }
        }
      ]
    },
    {
      "cell_type": "markdown",
      "metadata": {
        "id": "X6EgWmUw1qQv"
      },
      "source": [
        "## **InSIGHTS** \n",
        "Not much we can intrepret but we can say people with lower education level are at higher risk of getting heart disease"
      ]
    },
    {
      "cell_type": "markdown",
      "metadata": {
        "id": "viQsgdUJ15VU"
      },
      "source": [
        "##**4. Feature Engineering**\n",
        "---"
      ]
    },
    {
      "cell_type": "markdown",
      "metadata": {
        "id": "-2fzQdBT1_s9"
      },
      "source": [
        "##**AGE**\n",
        "*  From the above EDA we try to establish some patterns which influence the cause of heart disease in that we found people both men and women lying in a particular age group **40-42, 50-51** are more prone to heart disease.\n",
        "\n",
        "* So what I want to try is to create age buckets of population e.g 18-25 -> **20s**, 25-40 -> **Mid30s**\n",
        "etc in this way we can target the particular age group which have high risk of Heart disease.\n"
      ]
    },
    {
      "cell_type": "code",
      "metadata": {
        "colab": {
          "base_uri": "https://localhost:8080/"
        },
        "id": "sLyBp2am1TTb",
        "outputId": "49bea68b-5620-4efd-f7e9-a438ba14171f"
      },
      "source": [
        "train_df.age.describe()"
      ],
      "execution_count": null,
      "outputs": [
        {
          "output_type": "execute_result",
          "data": {
            "text/plain": [
              "count    2712.000000\n",
              "mean       49.580015\n",
              "std         8.585428\n",
              "min        32.000000\n",
              "25%        42.000000\n",
              "50%        49.000000\n",
              "75%        56.250000\n",
              "max        70.000000\n",
              "Name: age, dtype: float64"
            ]
          },
          "metadata": {
            "tags": []
          },
          "execution_count": 50
        }
      ]
    },
    {
      "cell_type": "code",
      "metadata": {
        "id": "gUYtn6Rb47vv"
      },
      "source": [
        "ldf=[train_df,final_testX]\n",
        "for df in ldf:\n",
        "  df['Age_Bucket']=pd.cut(df.age,bins=10,labels=['Early30','Mid30','Early40','Mid40','late40',\n",
        "                                               'Early50','Mid50','late50','Mid60','late60'])"
      ],
      "execution_count": null,
      "outputs": []
    },
    {
      "cell_type": "code",
      "metadata": {
        "colab": {
          "base_uri": "https://localhost:8080/"
        },
        "id": "9fO1RUtx7qfT",
        "outputId": "1698c34a-d123-4818-fec5-a4d37269e262"
      },
      "source": [
        "ldf=[train_df,final_testX]\n",
        "for df in ldf:\n",
        "  print(df[\"Age_Bucket\"].value_counts())\n",
        "  print('-'*100)"
      ],
      "execution_count": null,
      "outputs": [
        {
          "output_type": "stream",
          "text": [
            "Early40    475\n",
            "Mid40      407\n",
            "late40     365\n",
            "Mid50      320\n",
            "Mid30      315\n",
            "late50     286\n",
            "Early50    275\n",
            "Mid60      192\n",
            "late60      45\n",
            "Early30     32\n",
            "Name: Age_Bucket, dtype: int64\n",
            "----------------------------------------------------------------------------------------------------\n",
            "Mid40      107\n",
            "late40     102\n",
            "Mid30       96\n",
            "Mid50       80\n",
            "Early40     74\n",
            "Early50     64\n",
            "Mid60       59\n",
            "late50      55\n",
            "Early30     28\n",
            "late60      13\n",
            "Name: Age_Bucket, dtype: int64\n",
            "----------------------------------------------------------------------------------------------------\n"
          ],
          "name": "stdout"
        }
      ]
    },
    {
      "cell_type": "code",
      "metadata": {
        "colab": {
          "base_uri": "https://localhost:8080/",
          "height": 312
        },
        "id": "xmS_ke7i5hYd",
        "outputId": "8f778cf9-5dc5-4c5f-86e5-e04fb6d71657"
      },
      "source": [
        "ax=sns.factorplot('Age_Bucket','RISK',kind='bar',\n",
        "                    data=train_df,size=4,aspect=1.5)\n",
        "ax=ax.set_ylabels(\"RISK Probability\")"
      ],
      "execution_count": null,
      "outputs": [
        {
          "output_type": "display_data",
          "data": {
            "image/png": "[encoded data removed]",
            "text/plain": [
              "<Figure size 432x288 with 1 Axes>"
            ]
          },
          "metadata": {
            "tags": [],
            "needs_background": "light"
          }
        }
      ]
    },
    {
      "cell_type": "code",
      "metadata": {
        "colab": {
          "base_uri": "https://localhost:8080/",
          "height": 312
        },
        "id": "0F5UjJGE8QO0",
        "outputId": "2a374a65-885a-4ffb-8048-21072577fc67"
      },
      "source": [
        "ax=sns.factorplot('Age_Bucket',final_testY,kind='bar',\n",
        "                    data=final_testX,size=4,aspect=1.5)\n",
        "ax=ax.set_ylabels(\"RISK Probability\")"
      ],
      "execution_count": null,
      "outputs": [
        {
          "output_type": "display_data",
          "data": {
            "image/png": "[encoded data removed]",
            "text/plain": [
              "<Figure size 432x288 with 1 Axes>"
            ]
          },
          "metadata": {
            "tags": [],
            "needs_background": "light"
          }
        }
      ]
    },
    {
      "cell_type": "markdown",
      "metadata": {
        "id": "vk4cHBJV8p3-"
      },
      "source": [
        "## **INSIGHTS**\n",
        "Now we are seeing some good info both on training and testing data, **as the age of person increase risk of getting Heart Disease Increases**"
      ]
    },
    {
      "cell_type": "markdown",
      "metadata": {
        "id": "jXdViwhmN3Vj"
      },
      "source": [
        "##**BP Bucket**\n",
        "Just out of a common thought a lot many people told highBP leads to high disease lets check"
      ]
    },
    {
      "cell_type": "code",
      "metadata": {
        "id": "70V0LyApGkYq"
      },
      "source": [
        "ldf=[train_df,final_testX]\n",
        "for df in ldf:\n",
        "  df['BP_Bucket']= pd.cut(df.sysBP,bins=5,labels=['Very_Low_BP','lowBP','healthyBP','HighBP','Very_high_BP'])"
      ],
      "execution_count": null,
      "outputs": []
    },
    {
      "cell_type": "code",
      "metadata": {
        "colab": {
          "base_uri": "https://localhost:8080/"
        },
        "id": "rxY9G78sOyJ9",
        "outputId": "e33afff7-8aee-4250-a40d-faae96fcaf3e"
      },
      "source": [
        "train_df['BP_Bucket'].value_counts()"
      ],
      "execution_count": null,
      "outputs": [
        {
          "output_type": "execute_result",
          "data": {
            "text/plain": [
              "healthyBP       1084\n",
              "lowBP            919\n",
              "HighBP           425\n",
              "Very_high_BP     157\n",
              "Very_Low_BP      127\n",
              "Name: BP_Bucket, dtype: int64"
            ]
          },
          "metadata": {
            "tags": []
          },
          "execution_count": 56
        }
      ]
    },
    {
      "cell_type": "code",
      "metadata": {
        "colab": {
          "base_uri": "https://localhost:8080/",
          "height": 312
        },
        "id": "uERItS_0HLgM",
        "outputId": "32ee0309-66ca-4181-dc70-8f585052b4cc"
      },
      "source": [
        "ax=sns.factorplot('BP_Bucket','RISK',kind='bar',\n",
        "                    data=train_df,size=4,aspect=1.5)\n",
        "ax=ax.set_ylabels(\"RISK Probability\")"
      ],
      "execution_count": null,
      "outputs": [
        {
          "output_type": "display_data",
          "data": {
            "image/png": "[encoded data removed]",
            "text/plain": [
              "<Figure size 432x288 with 1 Axes>"
            ]
          },
          "metadata": {
            "tags": [],
            "needs_background": "light"
          }
        }
      ]
    },
    {
      "cell_type": "code",
      "metadata": {
        "colab": {
          "base_uri": "https://localhost:8080/",
          "height": 312
        },
        "id": "DV5aNdElPDX7",
        "outputId": "de00b4cd-e60e-4b6a-95a5-0b895be71929"
      },
      "source": [
        "ax=sns.factorplot('BP_Bucket',final_testY,kind='bar',\n",
        "                    data=final_testX,size=4,aspect=1.5)\n",
        "ax=ax.set_ylabels(\"RISK Probability\")"
      ],
      "execution_count": null,
      "outputs": [
        {
          "output_type": "display_data",
          "data": {
            "image/png": "[encoded data removed]",
            "text/plain": [
              "<Figure size 432x288 with 1 Axes>"
            ]
          },
          "metadata": {
            "tags": [],
            "needs_background": "light"
          }
        }
      ]
    },
    {
      "cell_type": "markdown",
      "metadata": {
        "id": "jaCcqG_f48my"
      },
      "source": [
        "## **EDA CONCLUSIONS**\n",
        "---\n",
        "Due to the imbalanced nature of the data set it was difficult to make conclusions but based on what is observed but these are the conclusions that could be drawn:\n",
        "\n",
        "1.    *Slightly more males are suffering from CHD than females.*\n",
        "2.    *The percentage of people who have CHD is almost equal between smokers and non smokers.*\n",
        "3.   *The percentage of people who have CHD is higher among the diabetic, and those with prevalent hypertension as compared to those who don’t have similar morbidities.*\n",
        "4.   *A larger percentage of the people who have CHD are on blood pressure medication.*\n",
        "\n",
        "5.  *Another interesting trend I checked for was the distribution of the ages of the people who had CHD and the number of the sick generally increased with age with the peak being at 63 years old.*\n",
        "\n",
        "---"
      ]
    },
    {
      "cell_type": "code",
      "metadata": {
        "id": "_PM7hCmi4GW4"
      },
      "source": [
        "df=train_df.copy()\n",
        "fdf=final_testX.copy()"
      ],
      "execution_count": null,
      "outputs": []
    },
    {
      "cell_type": "code",
      "metadata": {
        "colab": {
          "base_uri": "https://localhost:8080/",
          "height": 319
        },
        "id": "ss64dgpiDJgH",
        "outputId": "9024be29-621d-48fc-db25-7f0dffc5b8ed"
      },
      "source": [
        "labels = 'Non Risk',\"Risk\"\n",
        "my_colors = ['lightblue','red']\n",
        "my_explode = (0,0.1)\n",
        "plt.figure(figsize=(6,5))\n",
        "plt.pie(train_df['RISK'].value_counts(), labels=labels ,autopct='%1.0f%%', startangle =15, shadow =True, colors = my_colors, explode=my_explode )\n",
        "plt.title(\"Cardiovascular Risk rate\")\n",
        "plt.axis('equal')\n",
        "plt.show()\n",
        "\n"
      ],
      "execution_count": null,
      "outputs": [
        {
          "output_type": "display_data",
          "data": {
            "image/png": "[encoded data removed]",
            "text/plain": [
              "<Figure size 432x360 with 1 Axes>"
            ]
          },
          "metadata": {
            "tags": []
          }
        }
      ]
    },
    {
      "cell_type": "markdown",
      "metadata": {
        "id": "sVc0UaaLE37h"
      },
      "source": [
        "##**5.Class Imbalanced issue and Evaluation-metric to be chosen**\n",
        "---\n",
        "### In this problem we have a dataset of patients where we have to find out whether the given features or symptom a person has he/she has a Cardiovascular disease in future.\n",
        "\n",
        "But here’s the catch… the risk rate is relatively rare, only 15% of the people have this disease.\n",
        "\n",
        "\n",
        "\n",
        "\n",
        "\n",
        "\n"
      ]
    },
    {
      "cell_type": "markdown",
      "metadata": {
        "id": "uxdMKkEuQTDW"
      },
      "source": [
        "Well, let's guess what? We created a ML model and our “solution” would have 94% accuracy!\n",
        "\n",
        "Unfortunately, that accuracy is misleading.\n",
        "\n",
        "* All those non-risk cases, we’d have 100% accuracy.\n",
        "* Those cases in which a person has a risk, we’d have 0% accuracy.\n",
        "* Our overall accuracy would be high simply because the most cases are not getting the disease.\n",
        "\n",
        "This is clearly a problem because many machine learning algorithms are designed to maximize overall accuracy."
      ]
    },
    {
      "cell_type": "markdown",
      "metadata": {
        "id": "xRcxvIBVQ8un"
      },
      "source": [
        "## The Metric Trap\n",
        "\n",
        "One of the major issues when dealing with unbalanced datasets relates to the metrics used to evaluate their model. Using simpler metrics like accuracy score can be misleading. In a dataset with highly unbalanced classes, the classifier will always “predict” the most common class without performing any analysis of the features and it will have a high accuracy rate, obviously not the correct one.\n",
        "\n"
      ]
    },
    {
      "cell_type": "markdown",
      "metadata": {
        "id": "uqyCH8lBsJQk"
      },
      "source": [
        "## For the given binary classification problem **Recall** of the ML model should be very high.\n",
        "The False Negative or TypeII error should be zero"
      ]
    },
    {
      "cell_type": "markdown",
      "metadata": {
        "id": "nDfKLejXp3Zy"
      },
      "source": [
        "# Resampling Techniques\n",
        "\n",
        "A widely adopted technique for dealing with highly unbalanced datasets is called resampling. It consists of removing samples from the majority class (under-sampling) and/or adding more examples from the minority class (over-sampling).\n",
        "\n",
        "![Screenshot 2020-12-26 at 3.30.55 AM.png](data:image/png;base64,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)"
      ]
    },
    {
      "cell_type": "markdown",
      "metadata": {
        "id": "SkMCN09QpyVV"
      },
      "source": [
        "# **Random Over-Sampling**\n",
        "\n",
        "Oversampling can be defined as adding more copies to the minority class. Oversampling can be a good choice when you don’t have a ton of data to work with.\n",
        "\n",
        "A con to consider when undersampling is that it can cause overfitting and poor generalization to your test set."
      ]
    },
    {
      "cell_type": "markdown",
      "metadata": {
        "id": "osM2gnghSaD9"
      },
      "source": [
        "##**6.Model Trainning**\n",
        "---\n",
        "\n",
        "**Preprocessing**\n",
        "\n",
        "Encoding the binary categorical features"
      ]
    },
    {
      "cell_type": "code",
      "metadata": {
        "colab": {
          "base_uri": "https://localhost:8080/"
        },
        "id": "qL5b1zmIi7M0",
        "outputId": "b592271b-8cd5-4654-fe83-935320193123"
      },
      "source": [
        "[{col:train_df[col].unique()} for col in categorical_columns]"
      ],
      "execution_count": null,
      "outputs": [
        {
          "output_type": "execute_result",
          "data": {
            "text/plain": [
              "[{'sex': array(['F', 'M'], dtype=object)},\n",
              " {'is_smoking': array(['YES', 'NO'], dtype=object)}]"
            ]
          },
          "metadata": {
            "tags": []
          },
          "execution_count": 61
        }
      ]
    },
    {
      "cell_type": "code",
      "metadata": {
        "id": "8DXChQGaFONG"
      },
      "source": [
        "def preprocess_inputs(df):\n",
        "  df=df.copy()\n",
        "  #binary encoding\n",
        "  df['sex']= df['sex'].apply(lambda x: 1 if x=='M' else 0)\n",
        "  df['is_smoking']= df['is_smoking'].apply(lambda x: 1 if x=='YES' else 0)\n",
        "\n",
        "  #Extract numerical features\n",
        "  num_df= df.select_dtypes(include=['int8','int32','int64','float64'])\n",
        "\n",
        "  #Extract categorical features\n",
        "  cat_df= df.select_dtypes(include=['category','object'])\n",
        "\n",
        "  #One hot encode categorical variables\n",
        "  features_cat= pd.get_dummies(cat_df,drop_first=True)\n",
        "\n",
        "  #concat the features\n",
        "  df= pd.concat([num_df,features_cat],axis=1)\n",
        "  \n",
        "  return df"
      ],
      "execution_count": null,
      "outputs": []
    },
    {
      "cell_type": "code",
      "metadata": {
        "id": "6S5d-5h_lW9S"
      },
      "source": [
        "train_data= preprocess_inputs(train_df)\n",
        "test_data= preprocess_inputs(final_testX)"
      ],
      "execution_count": null,
      "outputs": []
    },
    {
      "cell_type": "code",
      "metadata": {
        "colab": {
          "base_uri": "https://localhost:8080/",
          "height": 226
        },
        "id": "H_MZ72QXlqaB",
        "outputId": "c5e1171b-d9ab-4990-e270-68bf3d890ffd"
      },
      "source": [
        "train_data.head()"
      ],
      "execution_count": null,
      "outputs": [
        {
          "output_type": "execute_result",
          "data": {
            "text/html": [
              "<div>\n",
              "<style scoped>\n",
              "    .dataframe tbody tr th:only-of-type {\n",
              "        vertical-align: middle;\n",
              "    }\n",
              "\n",
              "    .dataframe tbody tr th {\n",
              "        vertical-align: top;\n",
              "    }\n",
              "\n",
              "    .dataframe thead th {\n",
              "        text-align: right;\n",
              "    }\n",
              "</style>\n",
              "<table border=\"1\" class=\"dataframe\">\n",
              "  <thead>\n",
              "    <tr style=\"text-align: right;\">\n",
              "      <th></th>\n",
              "      <th>age</th>\n",
              "      <th>education</th>\n",
              "      <th>sex</th>\n",
              "      <th>is_smoking</th>\n",
              "      <th>cigsPerDay</th>\n",
              "      <th>BPMeds</th>\n",
              "      <th>totChol</th>\n",
              "      <th>sysBP</th>\n",
              "      <th>BMI</th>\n",
              "      <th>heartRate</th>\n",
              "      <th>glucose</th>\n",
              "      <th>RISK</th>\n",
              "      <th>bp_ratio</th>\n",
              "      <th>prevalentStroke_1.0</th>\n",
              "      <th>prevalentHyp_1.0</th>\n",
              "      <th>diabetes_1.0</th>\n",
              "      <th>Age_Bucket_Mid30</th>\n",
              "      <th>Age_Bucket_Early40</th>\n",
              "      <th>Age_Bucket_Mid40</th>\n",
              "      <th>Age_Bucket_late40</th>\n",
              "      <th>Age_Bucket_Early50</th>\n",
              "      <th>Age_Bucket_Mid50</th>\n",
              "      <th>Age_Bucket_late50</th>\n",
              "      <th>Age_Bucket_Mid60</th>\n",
              "      <th>Age_Bucket_late60</th>\n",
              "      <th>BP_Bucket_lowBP</th>\n",
              "      <th>BP_Bucket_healthyBP</th>\n",
              "      <th>BP_Bucket_HighBP</th>\n",
              "      <th>BP_Bucket_Very_high_BP</th>\n",
              "    </tr>\n",
              "  </thead>\n",
              "  <tbody>\n",
              "    <tr>\n",
              "      <th>542</th>\n",
              "      <td>49.0</td>\n",
              "      <td>2.0</td>\n",
              "      <td>0</td>\n",
              "      <td>1</td>\n",
              "      <td>20</td>\n",
              "      <td>0.0</td>\n",
              "      <td>229.0</td>\n",
              "      <td>118.5</td>\n",
              "      <td>21.42</td>\n",
              "      <td>76.0</td>\n",
              "      <td>72.333333</td>\n",
              "      <td>0</td>\n",
              "      <td>1.55</td>\n",
              "      <td>0</td>\n",
              "      <td>0</td>\n",
              "      <td>0</td>\n",
              "      <td>0</td>\n",
              "      <td>0</td>\n",
              "      <td>0</td>\n",
              "      <td>1</td>\n",
              "      <td>0</td>\n",
              "      <td>0</td>\n",
              "      <td>0</td>\n",
              "      <td>0</td>\n",
              "      <td>0</td>\n",
              "      <td>1</td>\n",
              "      <td>0</td>\n",
              "      <td>0</td>\n",
              "      <td>0</td>\n",
              "    </tr>\n",
              "    <tr>\n",
              "      <th>2726</th>\n",
              "      <td>51.0</td>\n",
              "      <td>3.0</td>\n",
              "      <td>1</td>\n",
              "      <td>0</td>\n",
              "      <td>0</td>\n",
              "      <td>0.0</td>\n",
              "      <td>215.0</td>\n",
              "      <td>147.0</td>\n",
              "      <td>28.59</td>\n",
              "      <td>65.0</td>\n",
              "      <td>100.000000</td>\n",
              "      <td>0</td>\n",
              "      <td>1.53</td>\n",
              "      <td>0</td>\n",
              "      <td>0</td>\n",
              "      <td>0</td>\n",
              "      <td>0</td>\n",
              "      <td>0</td>\n",
              "      <td>0</td>\n",
              "      <td>1</td>\n",
              "      <td>0</td>\n",
              "      <td>0</td>\n",
              "      <td>0</td>\n",
              "      <td>0</td>\n",
              "      <td>0</td>\n",
              "      <td>0</td>\n",
              "      <td>0</td>\n",
              "      <td>1</td>\n",
              "      <td>0</td>\n",
              "    </tr>\n",
              "    <tr>\n",
              "      <th>3067</th>\n",
              "      <td>57.0</td>\n",
              "      <td>1.0</td>\n",
              "      <td>0</td>\n",
              "      <td>1</td>\n",
              "      <td>1</td>\n",
              "      <td>0.0</td>\n",
              "      <td>254.0</td>\n",
              "      <td>146.5</td>\n",
              "      <td>25.38</td>\n",
              "      <td>72.0</td>\n",
              "      <td>85.000000</td>\n",
              "      <td>1</td>\n",
              "      <td>1.81</td>\n",
              "      <td>0</td>\n",
              "      <td>1</td>\n",
              "      <td>0</td>\n",
              "      <td>0</td>\n",
              "      <td>0</td>\n",
              "      <td>0</td>\n",
              "      <td>0</td>\n",
              "      <td>0</td>\n",
              "      <td>1</td>\n",
              "      <td>0</td>\n",
              "      <td>0</td>\n",
              "      <td>0</td>\n",
              "      <td>0</td>\n",
              "      <td>0</td>\n",
              "      <td>1</td>\n",
              "      <td>0</td>\n",
              "    </tr>\n",
              "    <tr>\n",
              "      <th>204</th>\n",
              "      <td>59.0</td>\n",
              "      <td>4.0</td>\n",
              "      <td>0</td>\n",
              "      <td>0</td>\n",
              "      <td>0</td>\n",
              "      <td>1.0</td>\n",
              "      <td>282.0</td>\n",
              "      <td>135.0</td>\n",
              "      <td>28.96</td>\n",
              "      <td>72.0</td>\n",
              "      <td>85.666667</td>\n",
              "      <td>0</td>\n",
              "      <td>1.55</td>\n",
              "      <td>0</td>\n",
              "      <td>1</td>\n",
              "      <td>0</td>\n",
              "      <td>0</td>\n",
              "      <td>0</td>\n",
              "      <td>0</td>\n",
              "      <td>0</td>\n",
              "      <td>0</td>\n",
              "      <td>0</td>\n",
              "      <td>1</td>\n",
              "      <td>0</td>\n",
              "      <td>0</td>\n",
              "      <td>0</td>\n",
              "      <td>1</td>\n",
              "      <td>0</td>\n",
              "      <td>0</td>\n",
              "    </tr>\n",
              "    <tr>\n",
              "      <th>329</th>\n",
              "      <td>52.0</td>\n",
              "      <td>1.0</td>\n",
              "      <td>0</td>\n",
              "      <td>0</td>\n",
              "      <td>0</td>\n",
              "      <td>0.0</td>\n",
              "      <td>275.0</td>\n",
              "      <td>112.0</td>\n",
              "      <td>25.68</td>\n",
              "      <td>80.0</td>\n",
              "      <td>82.000000</td>\n",
              "      <td>0</td>\n",
              "      <td>1.58</td>\n",
              "      <td>0</td>\n",
              "      <td>0</td>\n",
              "      <td>0</td>\n",
              "      <td>0</td>\n",
              "      <td>0</td>\n",
              "      <td>0</td>\n",
              "      <td>0</td>\n",
              "      <td>1</td>\n",
              "      <td>0</td>\n",
              "      <td>0</td>\n",
              "      <td>0</td>\n",
              "      <td>0</td>\n",
              "      <td>1</td>\n",
              "      <td>0</td>\n",
              "      <td>0</td>\n",
              "      <td>0</td>\n",
              "    </tr>\n",
              "  </tbody>\n",
              "</table>\n",
              "</div>"
            ],
            "text/plain": [
              "       age  education  ...  BP_Bucket_HighBP  BP_Bucket_Very_high_BP\n",
              "542   49.0        2.0  ...                 0                       0\n",
              "2726  51.0        3.0  ...                 1                       0\n",
              "3067  57.0        1.0  ...                 1                       0\n",
              "204   59.0        4.0  ...                 0                       0\n",
              "329   52.0        1.0  ...                 0                       0\n",
              "\n",
              "[5 rows x 29 columns]"
            ]
          },
          "metadata": {
            "tags": []
          },
          "execution_count": 64
        }
      ]
    },
    {
      "cell_type": "markdown",
      "metadata": {
        "id": "mKgAcWU6mdB0"
      },
      "source": [
        "##**Data Ready to be feeden**"
      ]
    },
    {
      "cell_type": "code",
      "metadata": {
        "id": "zovXUw3Dl44o"
      },
      "source": [
        "#scaling\n",
        "from sklearn.preprocessing import StandardScaler\n",
        "#Sampling\n",
        "from imblearn.over_sampling import RandomOverSampler\n",
        "from imblearn.over_sampling import SMOTE\n",
        "\n",
        "# Evaluation metrics\n",
        "from sklearn import model_selection\n",
        "from sklearn.model_selection import train_test_split\n",
        "from sklearn.model_selection import StratifiedKFold\n",
        "from sklearn.model_selection import RepeatedStratifiedKFold\n",
        "from sklearn.model_selection import StratifiedShuffleSplit\n",
        "from sklearn.model_selection import KFold\n",
        "from sklearn.metrics import f1_score, confusion_matrix,classification_report\n",
        "from sklearn.model_selection import GridSearchCV, RandomizedSearchCV\n",
        "from sklearn.model_selection import KFold\n",
        "from sklearn.metrics import plot_roc_curve\n",
        "import sklearn.metrics as metrics\n",
        "\n",
        "# Import the necessary modelling algos.\n",
        "from sklearn.linear_model import LogisticRegression, LogisticRegressionCV\n",
        "from sklearn.svm import LinearSVC\n",
        "from sklearn.svm import SVC\n",
        "from sklearn.neighbors import KNeighborsClassifier\n",
        "from sklearn.ensemble import RandomForestClassifier, AdaBoostClassifier,GradientBoostingClassifier\n",
        "from sklearn.tree import DecisionTreeClassifier\n",
        "from xgboost import XGBClassifier\n",
        "from sklearn.naive_bayes import GaussianNB\n"
      ],
      "execution_count": null,
      "outputs": []
    },
    {
      "cell_type": "code",
      "metadata": {
        "id": "Hz3YxZL3owIP"
      },
      "source": [
        "#Features and Target\n",
        "X= train_data.drop('RISK',axis=1)\n",
        "y=train_data['RISK']"
      ],
      "execution_count": null,
      "outputs": []
    },
    {
      "cell_type": "markdown",
      "metadata": {
        "id": "7qKEX7RrtlTu"
      },
      "source": [
        "###**Applying Random Oversampler**"
      ]
    },
    {
      "cell_type": "code",
      "metadata": {
        "colab": {
          "base_uri": "https://localhost:8080/"
        },
        "id": "yCQms_3Bq7uM",
        "outputId": "335922ed-f031-49c0-deb8-21b9a324ab90"
      },
      "source": [
        "ros = RandomOverSampler(random_state=0)\n",
        "\n",
        "# fit predictor and target variable\n",
        "x_ros, y_ros = ros.fit_resample(X,y)\n",
        "\n",
        "print('Original dataset shape', len(y))\n",
        "print('Resampled dataset shape', len(y_ros))"
      ],
      "execution_count": null,
      "outputs": [
        {
          "output_type": "stream",
          "text": [
            "Original dataset shape 2712\n",
            "Resampled dataset shape 4606\n"
          ],
          "name": "stdout"
        }
      ]
    },
    {
      "cell_type": "code",
      "metadata": {
        "id": "qk9tT_ODmoRM"
      },
      "source": [
        "#scaling both Train ,test and validation sets\n",
        "sc_X= StandardScaler()\n",
        "X_train=sc_X.fit_transform(x_ros)\n",
        "test_data=sc_X.fit_transform(test_data)"
      ],
      "execution_count": null,
      "outputs": []
    },
    {
      "cell_type": "code",
      "metadata": {
        "colab": {
          "base_uri": "https://localhost:8080/",
          "height": 226
        },
        "id": "Vi2k0nX-fVSK",
        "outputId": "b243d0b4-f88f-432b-93d7-0da20180c8f5"
      },
      "source": [
        "#scaled dataframe\n",
        "pd.DataFrame(X_train,columns=X.columns).head()"
      ],
      "execution_count": null,
      "outputs": [
        {
          "output_type": "execute_result",
          "data": {
            "text/html": [
              "<div>\n",
              "<style scoped>\n",
              "    .dataframe tbody tr th:only-of-type {\n",
              "        vertical-align: middle;\n",
              "    }\n",
              "\n",
              "    .dataframe tbody tr th {\n",
              "        vertical-align: top;\n",
              "    }\n",
              "\n",
              "    .dataframe thead th {\n",
              "        text-align: right;\n",
              "    }\n",
              "</style>\n",
              "<table border=\"1\" class=\"dataframe\">\n",
              "  <thead>\n",
              "    <tr style=\"text-align: right;\">\n",
              "      <th></th>\n",
              "      <th>age</th>\n",
              "      <th>education</th>\n",
              "      <th>sex</th>\n",
              "      <th>is_smoking</th>\n",
              "      <th>cigsPerDay</th>\n",
              "      <th>BPMeds</th>\n",
              "      <th>totChol</th>\n",
              "      <th>sysBP</th>\n",
              "      <th>BMI</th>\n",
              "      <th>heartRate</th>\n",
              "      <th>glucose</th>\n",
              "      <th>bp_ratio</th>\n",
              "      <th>prevalentStroke_1.0</th>\n",
              "      <th>prevalentHyp_1.0</th>\n",
              "      <th>diabetes_1.0</th>\n",
              "      <th>Age_Bucket_Mid30</th>\n",
              "      <th>Age_Bucket_Early40</th>\n",
              "      <th>Age_Bucket_Mid40</th>\n",
              "      <th>Age_Bucket_late40</th>\n",
              "      <th>Age_Bucket_Early50</th>\n",
              "      <th>Age_Bucket_Mid50</th>\n",
              "      <th>Age_Bucket_late50</th>\n",
              "      <th>Age_Bucket_Mid60</th>\n",
              "      <th>Age_Bucket_late60</th>\n",
              "      <th>BP_Bucket_lowBP</th>\n",
              "      <th>BP_Bucket_healthyBP</th>\n",
              "      <th>BP_Bucket_HighBP</th>\n",
              "      <th>BP_Bucket_Very_high_BP</th>\n",
              "    </tr>\n",
              "  </thead>\n",
              "  <tbody>\n",
              "    <tr>\n",
              "      <th>0</th>\n",
              "      <td>-0.278825</td>\n",
              "      <td>0.078979</td>\n",
              "      <td>-0.959566</td>\n",
              "      <td>0.966686</td>\n",
              "      <td>0.838818</td>\n",
              "      <td>-0.223524</td>\n",
              "      <td>-0.235106</td>\n",
              "      <td>-0.770255</td>\n",
              "      <td>-1.185870</td>\n",
              "      <td>0.037426</td>\n",
              "      <td>-0.609493</td>\n",
              "      <td>-0.319776</td>\n",
              "      <td>-0.105813</td>\n",
              "      <td>-0.784946</td>\n",
              "      <td>-0.203408</td>\n",
              "      <td>-0.30372</td>\n",
              "      <td>-0.414022</td>\n",
              "      <td>-0.373544</td>\n",
              "      <td>2.540290</td>\n",
              "      <td>-0.352862</td>\n",
              "      <td>-0.410417</td>\n",
              "      <td>-0.378433</td>\n",
              "      <td>-0.335901</td>\n",
              "      <td>-0.156417</td>\n",
              "      <td>1.543305</td>\n",
              "      <td>-0.818196</td>\n",
              "      <td>-0.482907</td>\n",
              "      <td>-0.293368</td>\n",
              "    </tr>\n",
              "    <tr>\n",
              "      <th>1</th>\n",
              "      <td>-0.048834</td>\n",
              "      <td>1.060386</td>\n",
              "      <td>1.042138</td>\n",
              "      <td>-1.034462</td>\n",
              "      <td>-0.802855</td>\n",
              "      <td>-0.223524</td>\n",
              "      <td>-0.573427</td>\n",
              "      <td>0.722649</td>\n",
              "      <td>0.806895</td>\n",
              "      <td>-0.978770</td>\n",
              "      <td>2.091705</td>\n",
              "      <td>-0.428980</td>\n",
              "      <td>-0.105813</td>\n",
              "      <td>-0.784946</td>\n",
              "      <td>-0.203408</td>\n",
              "      <td>-0.30372</td>\n",
              "      <td>-0.414022</td>\n",
              "      <td>-0.373544</td>\n",
              "      <td>2.540290</td>\n",
              "      <td>-0.352862</td>\n",
              "      <td>-0.410417</td>\n",
              "      <td>-0.378433</td>\n",
              "      <td>-0.335901</td>\n",
              "      <td>-0.156417</td>\n",
              "      <td>-0.647960</td>\n",
              "      <td>-0.818196</td>\n",
              "      <td>2.070791</td>\n",
              "      <td>-0.293368</td>\n",
              "    </tr>\n",
              "    <tr>\n",
              "      <th>2</th>\n",
              "      <td>0.641138</td>\n",
              "      <td>-0.902429</td>\n",
              "      <td>-0.959566</td>\n",
              "      <td>0.966686</td>\n",
              "      <td>-0.720771</td>\n",
              "      <td>-0.223524</td>\n",
              "      <td>0.369037</td>\n",
              "      <td>0.696458</td>\n",
              "      <td>-0.085264</td>\n",
              "      <td>-0.332100</td>\n",
              "      <td>0.627200</td>\n",
              "      <td>1.099876</td>\n",
              "      <td>-0.105813</td>\n",
              "      <td>1.273973</td>\n",
              "      <td>-0.203408</td>\n",
              "      <td>-0.30372</td>\n",
              "      <td>-0.414022</td>\n",
              "      <td>-0.373544</td>\n",
              "      <td>-0.393656</td>\n",
              "      <td>-0.352862</td>\n",
              "      <td>2.436544</td>\n",
              "      <td>-0.378433</td>\n",
              "      <td>-0.335901</td>\n",
              "      <td>-0.156417</td>\n",
              "      <td>-0.647960</td>\n",
              "      <td>-0.818196</td>\n",
              "      <td>2.070791</td>\n",
              "      <td>-0.293368</td>\n",
              "    </tr>\n",
              "    <tr>\n",
              "      <th>3</th>\n",
              "      <td>0.871129</td>\n",
              "      <td>2.041794</td>\n",
              "      <td>-0.959566</td>\n",
              "      <td>-1.034462</td>\n",
              "      <td>-0.802855</td>\n",
              "      <td>4.557674</td>\n",
              "      <td>1.045678</td>\n",
              "      <td>0.094058</td>\n",
              "      <td>0.909729</td>\n",
              "      <td>-0.332100</td>\n",
              "      <td>0.692289</td>\n",
              "      <td>-0.319776</td>\n",
              "      <td>-0.105813</td>\n",
              "      <td>1.273973</td>\n",
              "      <td>-0.203408</td>\n",
              "      <td>-0.30372</td>\n",
              "      <td>-0.414022</td>\n",
              "      <td>-0.373544</td>\n",
              "      <td>-0.393656</td>\n",
              "      <td>-0.352862</td>\n",
              "      <td>-0.410417</td>\n",
              "      <td>2.642474</td>\n",
              "      <td>-0.335901</td>\n",
              "      <td>-0.156417</td>\n",
              "      <td>-0.647960</td>\n",
              "      <td>1.222200</td>\n",
              "      <td>-0.482907</td>\n",
              "      <td>-0.293368</td>\n",
              "    </tr>\n",
              "    <tr>\n",
              "      <th>4</th>\n",
              "      <td>0.066161</td>\n",
              "      <td>-0.902429</td>\n",
              "      <td>-0.959566</td>\n",
              "      <td>-1.034462</td>\n",
              "      <td>-0.802855</td>\n",
              "      <td>-0.223524</td>\n",
              "      <td>0.876518</td>\n",
              "      <td>-1.110742</td>\n",
              "      <td>-0.001884</td>\n",
              "      <td>0.406952</td>\n",
              "      <td>0.334299</td>\n",
              "      <td>-0.155970</td>\n",
              "      <td>-0.105813</td>\n",
              "      <td>-0.784946</td>\n",
              "      <td>-0.203408</td>\n",
              "      <td>-0.30372</td>\n",
              "      <td>-0.414022</td>\n",
              "      <td>-0.373544</td>\n",
              "      <td>-0.393656</td>\n",
              "      <td>2.833968</td>\n",
              "      <td>-0.410417</td>\n",
              "      <td>-0.378433</td>\n",
              "      <td>-0.335901</td>\n",
              "      <td>-0.156417</td>\n",
              "      <td>1.543305</td>\n",
              "      <td>-0.818196</td>\n",
              "      <td>-0.482907</td>\n",
              "      <td>-0.293368</td>\n",
              "    </tr>\n",
              "  </tbody>\n",
              "</table>\n",
              "</div>"
            ],
            "text/plain": [
              "        age  education  ...  BP_Bucket_HighBP  BP_Bucket_Very_high_BP\n",
              "0 -0.278825   0.078979  ...         -0.482907               -0.293368\n",
              "1 -0.048834   1.060386  ...          2.070791               -0.293368\n",
              "2  0.641138  -0.902429  ...          2.070791               -0.293368\n",
              "3  0.871129   2.041794  ...         -0.482907               -0.293368\n",
              "4  0.066161  -0.902429  ...         -0.482907               -0.293368\n",
              "\n",
              "[5 rows x 28 columns]"
            ]
          },
          "metadata": {
            "tags": []
          },
          "execution_count": 69
        }
      ]
    },
    {
      "cell_type": "markdown",
      "metadata": {
        "id": "BkNRGi2sttDX"
      },
      "source": [
        "## **Algorithm being used**\n",
        "1. Logistic Regression\n",
        "2. Decision Tree\n",
        "3. K-Nearest Neighbors\n",
        "4. Support Vector Machine"
      ]
    },
    {
      "cell_type": "markdown",
      "metadata": {
        "id": "DJiHLNg1tsgv"
      },
      "source": [
        "## **1. Logistic Regression**"
      ]
    },
    {
      "cell_type": "code",
      "metadata": {
        "colab": {
          "base_uri": "https://localhost:8080/"
        },
        "id": "UCnsV0dotsQr",
        "outputId": "2837e269-1e54-4895-e91d-bcf6c85d9c31"
      },
      "source": [
        "lr = LogisticRegression()\n",
        "lr.fit(X_train,y_ros)\n",
        "pred=lr.predict(test_data)\n",
        "print(classification_report(final_testY,pred))"
      ],
      "execution_count": null,
      "outputs": [
        {
          "output_type": "stream",
          "text": [
            "              precision    recall  f1-score   support\n",
            "\n",
            "           0       0.94      0.54      0.69       576\n",
            "           1       0.24      0.79      0.36       102\n",
            "\n",
            "    accuracy                           0.58       678\n",
            "   macro avg       0.59      0.67      0.53       678\n",
            "weighted avg       0.83      0.58      0.64       678\n",
            "\n"
          ],
          "name": "stdout"
        }
      ]
    },
    {
      "cell_type": "code",
      "metadata": {
        "colab": {
          "base_uri": "https://localhost:8080/",
          "height": 297
        },
        "id": "DUz4XsPD55C7",
        "outputId": "30ed276b-6759-4963-d37e-90c940d796cc"
      },
      "source": [
        "from sklearn.metrics import plot_roc_curve\n",
        "plt.figure(figsize=(15,8))\n",
        "svc_disp = plot_roc_curve(lr,test_data,final_testY)\n",
        "x,y=np.arange(0,1.1,0.1),np.arange(0,1.1,0.1)\n",
        "plt.plot(x,y,'b--',color='r')\n",
        "plt.show()"
      ],
      "execution_count": null,
      "outputs": [
        {
          "output_type": "display_data",
          "data": {
            "text/plain": [
              "<Figure size 1080x576 with 0 Axes>"
            ]
          },
          "metadata": {
            "tags": []
          }
        },
        {
          "output_type": "display_data",
          "data": {
            "image/png": "[encoded data removed]",
            "text/plain": [
              "<Figure size 432x288 with 1 Axes>"
            ]
          },
          "metadata": {
            "tags": [],
            "needs_background": "light"
          }
        }
      ]
    },
    {
      "cell_type": "markdown",
      "metadata": {
        "id": "09_UvuZ0uv6p"
      },
      "source": [
        "### **Hypertuning Logistic Regression**"
      ]
    },
    {
      "cell_type": "code",
      "metadata": {
        "colab": {
          "base_uri": "https://localhost:8080/"
        },
        "id": "M003Jlyxu1VF",
        "outputId": "c8992986-043f-4087-dd8b-8f74b138ee9d"
      },
      "source": [
        "# define models and parameters\n",
        "model = LogisticRegression()\n",
        "solvers = ['newton-cg', 'lbfgs', 'liblinear']\n",
        "penalty = ['l2']\n",
        "c_values = [100, 10, 1.0, 0.1, 0.01]\n",
        "# define grid search\n",
        "grid = dict(solver=solvers,penalty=penalty,C=c_values)\n",
        "cv = RepeatedStratifiedKFold(n_splits=10, n_repeats=3, random_state=1)\n",
        "grid_search = GridSearchCV(estimator=model, param_grid=grid, n_jobs=10, cv=cv, scoring='f1',error_score=0,verbose=3)\n",
        "grid_result = grid_search.fit(X_train, y_ros)\n",
        "# summarize results\n",
        "print(\"Best: %f using %s\" % (grid_result.best_score_, grid_result.best_params_))"
      ],
      "execution_count": null,
      "outputs": [
        {
          "output_type": "stream",
          "text": [
            "Fitting 30 folds for each of 15 candidates, totalling 450 fits\n"
          ],
          "name": "stdout"
        },
        {
          "output_type": "stream",
          "text": [
            "[Parallel(n_jobs=10)]: Using backend LokyBackend with 10 concurrent workers.\n",
            "[Parallel(n_jobs=10)]: Done  12 tasks      | elapsed:    0.9s\n",
            "[Parallel(n_jobs=10)]: Done 196 tasks      | elapsed:    8.1s\n"
          ],
          "name": "stderr"
        },
        {
          "output_type": "stream",
          "text": [
            "Best: 0.680190 using {'C': 0.01, 'penalty': 'l2', 'solver': 'newton-cg'}\n"
          ],
          "name": "stdout"
        },
        {
          "output_type": "stream",
          "text": [
            "[Parallel(n_jobs=10)]: Done 450 out of 450 | elapsed:   15.2s finished\n"
          ],
          "name": "stderr"
        }
      ]
    },
    {
      "cell_type": "code",
      "metadata": {
        "colab": {
          "base_uri": "https://localhost:8080/"
        },
        "id": "kQWaEP5Fv3Vy",
        "outputId": "03a92be8-0065-4b58-8305-e0fdb79dbbe2"
      },
      "source": [
        "pred=grid_search.predict(test_data)\n",
        "print(classification_report(final_testY,pred))"
      ],
      "execution_count": null,
      "outputs": [
        {
          "output_type": "stream",
          "text": [
            "              precision    recall  f1-score   support\n",
            "\n",
            "           0       0.93      0.57      0.70       576\n",
            "           1       0.24      0.77      0.37       102\n",
            "\n",
            "    accuracy                           0.60       678\n",
            "   macro avg       0.59      0.67      0.54       678\n",
            "weighted avg       0.83      0.60      0.65       678\n",
            "\n"
          ],
          "name": "stdout"
        }
      ]
    },
    {
      "cell_type": "code",
      "metadata": {
        "colab": {
          "base_uri": "https://localhost:8080/",
          "height": 297
        },
        "id": "HQJ8kuK_6DFI",
        "outputId": "b7e1f7a4-f525-4498-b4f2-755c3c121597"
      },
      "source": [
        "from sklearn.metrics import plot_roc_curve\n",
        "plt.figure(figsize=(15,8))\n",
        "svc_disp = plot_roc_curve(grid_search,test_data,final_testY)\n",
        "x,y=np.arange(0,1.1,0.1),np.arange(0,1.1,0.1)\n",
        "plt.plot(x,y,'b--',color='r')\n",
        "plt.show()"
      ],
      "execution_count": null,
      "outputs": [
        {
          "output_type": "display_data",
          "data": {
            "text/plain": [
              "<Figure size 1080x576 with 0 Axes>"
            ]
          },
          "metadata": {
            "tags": []
          }
        },
        {
          "output_type": "display_data",
          "data": {
            "image/png": "[encoded data removed]",
            "text/plain": [
              "<Figure size 432x288 with 1 Axes>"
            ]
          },
          "metadata": {
            "tags": [],
            "needs_background": "light"
          }
        }
      ]
    },
    {
      "cell_type": "markdown",
      "metadata": {
        "id": "uQQTwu1rwSzh"
      },
      "source": [
        "We can see on hypertunning our LogisticRegression model we see there is improvement in recall but precision is still not better."
      ]
    },
    {
      "cell_type": "markdown",
      "metadata": {
        "id": "FbiDo2NlwO0K"
      },
      "source": [
        "##**2. Decision Tree**"
      ]
    },
    {
      "cell_type": "code",
      "metadata": {
        "colab": {
          "base_uri": "https://localhost:8080/"
        },
        "id": "Py8RMKCqwOiL",
        "outputId": "cf672f86-f862-4ace-f500-fc6368f3cc09"
      },
      "source": [
        "dt = DecisionTreeClassifier()\n",
        "dt.fit(X_train,y_ros)\n",
        "pred=dt.predict(test_data)\n",
        "print(classification_report(final_testY,pred))"
      ],
      "execution_count": null,
      "outputs": [
        {
          "output_type": "stream",
          "text": [
            "              precision    recall  f1-score   support\n",
            "\n",
            "           0       0.86      0.83      0.85       576\n",
            "           1       0.20      0.24      0.22       102\n",
            "\n",
            "    accuracy                           0.74       678\n",
            "   macro avg       0.53      0.53      0.53       678\n",
            "weighted avg       0.76      0.74      0.75       678\n",
            "\n"
          ],
          "name": "stdout"
        }
      ]
    },
    {
      "cell_type": "markdown",
      "metadata": {
        "id": "S1cPXdjWw9X3"
      },
      "source": [
        "### **Hypertunning Decision Tree**"
      ]
    },
    {
      "cell_type": "code",
      "metadata": {
        "colab": {
          "base_uri": "https://localhost:8080/"
        },
        "id": "Wr4RZDoLxDnK",
        "outputId": "90b76e9f-b5f1-47b7-e56b-fcbbd876d15f"
      },
      "source": [
        "# Creating lists of parameter for Decision Tree Classifier\n",
        "criterion = ['gini', 'entropy']\n",
        "max_depth = [2,4,6,8,10,12]\n",
        "\n",
        "# Creating a dictionary of all the parameter options \n",
        "# Note that we can access the parameters of steps of a pipeline by using '__’\n",
        "parameters = dict(dec_tree__criterion=criterion,\n",
        "                      dec_tree__max_depth=max_depth)\n",
        "\n",
        "# Conducting Parameter Optmization With Pipeline\n",
        "# Creating a grid search object\n",
        "clf_GS = GridSearchCV(estimator=model, param_grid=grid, n_jobs=10, cv=cv, scoring='f1',error_score=0,verbose=3)\n",
        "\n",
        "# Fitting the grid search\n",
        "clf_GS.fit(X_train, y_ros)\n",
        "# Viewing The Best Parameters\n",
        "print('Best Criterion:', clf_GS.best_estimator_.get_params())\n",
        "print('Best max_depth:', clf_GS.best_estimator_.get_params())\n",
        "print('Best Number Of Components:', clf_GS.best_estimator_.get_params())\n",
        "print(); print(clf_GS.best_estimator_.get_params())"
      ],
      "execution_count": null,
      "outputs": [
        {
          "output_type": "stream",
          "text": [
            "[Parallel(n_jobs=10)]: Using backend LokyBackend with 10 concurrent workers.\n"
          ],
          "name": "stderr"
        },
        {
          "output_type": "stream",
          "text": [
            "Fitting 30 folds for each of 15 candidates, totalling 450 fits\n"
          ],
          "name": "stdout"
        },
        {
          "output_type": "stream",
          "text": [
            "[Parallel(n_jobs=10)]: Done  12 tasks      | elapsed:    0.9s\n",
            "[Parallel(n_jobs=10)]: Done 108 tasks      | elapsed:    4.9s\n",
            "[Parallel(n_jobs=10)]: Done 268 tasks      | elapsed:   11.0s\n"
          ],
          "name": "stderr"
        },
        {
          "output_type": "stream",
          "text": [
            "Best Criterion: {'C': 0.01, 'class_weight': None, 'dual': False, 'fit_intercept': True, 'intercept_scaling': 1, 'l1_ratio': None, 'max_iter': 100, 'multi_class': 'auto', 'n_jobs': None, 'penalty': 'l2', 'random_state': None, 'solver': 'newton-cg', 'tol': 0.0001, 'verbose': 0, 'warm_start': False}\n",
            "Best max_depth: {'C': 0.01, 'class_weight': None, 'dual': False, 'fit_intercept': True, 'intercept_scaling': 1, 'l1_ratio': None, 'max_iter': 100, 'multi_class': 'auto', 'n_jobs': None, 'penalty': 'l2', 'random_state': None, 'solver': 'newton-cg', 'tol': 0.0001, 'verbose': 0, 'warm_start': False}\n",
            "Best Number Of Components: {'C': 0.01, 'class_weight': None, 'dual': False, 'fit_intercept': True, 'intercept_scaling': 1, 'l1_ratio': None, 'max_iter': 100, 'multi_class': 'auto', 'n_jobs': None, 'penalty': 'l2', 'random_state': None, 'solver': 'newton-cg', 'tol': 0.0001, 'verbose': 0, 'warm_start': False}\n",
            "\n",
            "{'C': 0.01, 'class_weight': None, 'dual': False, 'fit_intercept': True, 'intercept_scaling': 1, 'l1_ratio': None, 'max_iter': 100, 'multi_class': 'auto', 'n_jobs': None, 'penalty': 'l2', 'random_state': None, 'solver': 'newton-cg', 'tol': 0.0001, 'verbose': 0, 'warm_start': False}\n"
          ],
          "name": "stdout"
        },
        {
          "output_type": "stream",
          "text": [
            "[Parallel(n_jobs=10)]: Done 450 out of 450 | elapsed:   16.2s finished\n"
          ],
          "name": "stderr"
        }
      ]
    },
    {
      "cell_type": "code",
      "metadata": {
        "colab": {
          "base_uri": "https://localhost:8080/"
        },
        "id": "Q2Aaw9aUyuDS",
        "outputId": "220e9cc7-d553-4fd5-88b2-acedc59e8d26"
      },
      "source": [
        "pred=clf_GS.predict(test_data)\n",
        "print(classification_report(final_testY,pred))"
      ],
      "execution_count": null,
      "outputs": [
        {
          "output_type": "stream",
          "text": [
            "              precision    recall  f1-score   support\n",
            "\n",
            "           0       0.93      0.57      0.70       576\n",
            "           1       0.24      0.77      0.37       102\n",
            "\n",
            "    accuracy                           0.60       678\n",
            "   macro avg       0.59      0.67      0.54       678\n",
            "weighted avg       0.83      0.60      0.65       678\n",
            "\n"
          ],
          "name": "stdout"
        }
      ]
    },
    {
      "cell_type": "markdown",
      "metadata": {
        "id": "Rjd_585Dy7zs"
      },
      "source": [
        "##**3.XGBoost**"
      ]
    },
    {
      "cell_type": "code",
      "metadata": {
        "colab": {
          "base_uri": "https://localhost:8080/"
        },
        "id": "sR_jP1PNy7Fq",
        "outputId": "f2881189-912c-43f6-8fb9-cd5739d3c071"
      },
      "source": [
        "xg = XGBClassifier()\n",
        "xg.fit(X_train,y_ros)\n",
        "pred=xg.predict(test_data)\n",
        "print(classification_report(final_testY,pred))"
      ],
      "execution_count": null,
      "outputs": [
        {
          "output_type": "stream",
          "text": [
            "              precision    recall  f1-score   support\n",
            "\n",
            "           0       0.92      0.64      0.75       576\n",
            "           1       0.25      0.67      0.36       102\n",
            "\n",
            "    accuracy                           0.64       678\n",
            "   macro avg       0.58      0.65      0.56       678\n",
            "weighted avg       0.81      0.64      0.69       678\n",
            "\n"
          ],
          "name": "stdout"
        }
      ]
    },
    {
      "cell_type": "markdown",
      "metadata": {
        "id": "4ognFNud1kBJ"
      },
      "source": [
        "##**Hypertunning XGboost using Bayesian Optimization**"
      ]
    },
    {
      "cell_type": "markdown",
      "metadata": {
        "id": "xX-V6gSk1xUq"
      },
      "source": [
        "For computationally intensive tasks, grid search and random search can be painfully time-consuming with less luck of finding optimal parameters. These methods hardly rely on any information that the model learned during the previous optimizations. Bayesian Optimization on the other hand constantly learns from previous optimizations to find a best-optimized parameter list and also requires fewer samples to learn or derive the best values.\n",
        "\n",
        "Two common terms that you will come across when reading any material on Bayesian optimization are :\n",
        "\n",
        "    Surrogate model and \n",
        "    Acquisition function.\n",
        "\n",
        "The Gaussian process is a popular surrogate model for Bayesian Optimization. What it does is that it defines a prior function that can be used to learn from previous predictions or believes about the objective function.\n",
        "\n",
        "Acquisition function, on the other hand, is responsible for predicting the sampling points in the search space. Acquisition function follows the exploration and exploitation principle. It is a function that allows the optimizer to exploit an optimal region until a better value is obtained. The goal is to maximise the acquisition function to determine the next sampling point. The terms exploration and exploitation might seem familiar to you if you have learned about Thompson Sampling or Upper Confidence Bound which revolves around the same principle. These are also used as acquisition functions."
      ]
    },
    {
      "cell_type": "code",
      "metadata": {
        "colab": {
          "base_uri": "https://localhost:8080/"
        },
        "id": "27CXso-z0DM-",
        "outputId": "fd613106-8daa-4889-8d8f-8e6faf489249"
      },
      "source": [
        "pip install bayesian-optimization"
      ],
      "execution_count": null,
      "outputs": [
        {
          "output_type": "stream",
          "text": [
            "Requirement already satisfied: bayesian-optimization in /usr/local/lib/python3.7/dist-packages (1.2.0)\n",
            "Requirement already satisfied: numpy>=1.9.0 in /usr/local/lib/python3.7/dist-packages (from bayesian-optimization) (1.19.5)\n",
            "Requirement already satisfied: scipy>=0.14.0 in /usr/local/lib/python3.7/dist-packages (from bayesian-optimization) (1.4.1)\n",
            "Requirement already satisfied: scikit-learn>=0.18.0 in /usr/local/lib/python3.7/dist-packages (from bayesian-optimization) (0.22.2.post1)\n",
            "Requirement already satisfied: joblib>=0.11 in /usr/local/lib/python3.7/dist-packages (from scikit-learn>=0.18.0->bayesian-optimization) (1.0.1)\n"
          ],
          "name": "stdout"
        }
      ]
    },
    {
      "cell_type": "code",
      "metadata": {
        "colab": {
          "base_uri": "https://localhost:8080/"
        },
        "id": "nZxpQt2mzpdz",
        "outputId": "01355dac-1f6c-4184-e4c9-f954b62c1ba6"
      },
      "source": [
        "#Importing necessary libraries\n",
        "from bayes_opt import BayesianOptimization\n",
        "import xgboost as xgb\n",
        "from sklearn.metrics import mean_squared_error\n",
        "\n",
        "#Converting the dataframe into XGBoost’s Dmatrix object\n",
        "dtrain = xgb.DMatrix(X_train, label=y_ros)\n",
        "\n",
        "#Bayesian Optimization function for xgboost\n",
        "#specify the parameters you want to tune as keyword arguments\n",
        "def bo_tune_xgb(max_depth, gamma, n_estimators ,learning_rate):\n",
        "     params = {'max_depth': int(max_depth),\n",
        "              'gamma': gamma,\n",
        "              'n_estimators': int(n_estimators),\n",
        "              'learning_rate':learning_rate,\n",
        "              'subsample': 0.8,\n",
        "              'eta': 0.1,\n",
        "              'eval_metric': 'rmse'}\n",
        "    #Cross validating with the specified parameters in 5 folds and 70 iterations\n",
        "     cv_result = xgb.cv(params, dtrain, num_boost_round=70, nfold=5)\n",
        "    #Return the negative RMSE\n",
        "     return -1.0 * cv_result['test-rmse-mean'].iloc[-1]\n",
        "\n",
        "#Invoking the Bayesian Optimizer with the specified parameters to tune\n",
        "xgb_bo = BayesianOptimization(bo_tune_xgb, {'max_depth': (3, 10),\n",
        "                                             'gamma': (0, 1),\n",
        "                                             'learning_rate':(0,1),\n",
        "                                             'n_estimators':(100,120)\n",
        "                                            })\n",
        "\n",
        "#performing Bayesian optimization for 5 iterations with 8 steps of random exploration with an #acquisition function of expected improvement\n",
        "xgb_bo.maximize(n_iter=5, init_points=8, acq='ei')"
      ],
      "execution_count": null,
      "outputs": [
        {
          "output_type": "stream",
          "text": [
            "|   iter    |  target   |   gamma   | learni... | max_depth | n_esti... |\n",
            "-------------------------------------------------------------------------\n",
            "| \u001b[0m 1       \u001b[0m | \u001b[0m-0.2843  \u001b[0m | \u001b[0m 0.5556  \u001b[0m | \u001b[0m 0.09392 \u001b[0m | \u001b[0m 8.984   \u001b[0m | \u001b[0m 115.1   \u001b[0m |\n",
            "| \u001b[95m 2       \u001b[0m | \u001b[95m-0.2842  \u001b[0m | \u001b[95m 0.4737  \u001b[0m | \u001b[95m 0.2991  \u001b[0m | \u001b[95m 6.291   \u001b[0m | \u001b[95m 110.3   \u001b[0m |\n",
            "| \u001b[0m 3       \u001b[0m | \u001b[0m-0.3099  \u001b[0m | \u001b[0m 0.4912  \u001b[0m | \u001b[0m 0.7362  \u001b[0m | \u001b[0m 6.212   \u001b[0m | \u001b[0m 105.2   \u001b[0m |\n",
            "| \u001b[95m 4       \u001b[0m | \u001b[95m-0.2842  \u001b[0m | \u001b[95m 0.6567  \u001b[0m | \u001b[95m 0.4024  \u001b[0m | \u001b[95m 8.724   \u001b[0m | \u001b[95m 113.5   \u001b[0m |\n",
            "| \u001b[0m 5       \u001b[0m | \u001b[0m-0.2882  \u001b[0m | \u001b[0m 0.2269  \u001b[0m | \u001b[0m 0.6195  \u001b[0m | \u001b[0m 5.721   \u001b[0m | \u001b[0m 111.8   \u001b[0m |\n",
            "| \u001b[0m 6       \u001b[0m | \u001b[0m-0.2855  \u001b[0m | \u001b[0m 0.04521 \u001b[0m | \u001b[0m 0.7862  \u001b[0m | \u001b[0m 8.696   \u001b[0m | \u001b[0m 119.4   \u001b[0m |\n",
            "| \u001b[0m 7       \u001b[0m | \u001b[0m-0.33    \u001b[0m | \u001b[0m 0.5034  \u001b[0m | \u001b[0m 0.3891  \u001b[0m | \u001b[0m 4.72    \u001b[0m | \u001b[0m 106.9   \u001b[0m |\n",
            "| \u001b[0m 8       \u001b[0m | \u001b[0m-0.3089  \u001b[0m | \u001b[0m 0.9392  \u001b[0m | \u001b[0m 0.5607  \u001b[0m | \u001b[0m 9.503   \u001b[0m | \u001b[0m 107.2   \u001b[0m |\n",
            "| \u001b[0m 9       \u001b[0m | \u001b[0m-0.5     \u001b[0m | \u001b[0m 0.0     \u001b[0m | \u001b[0m 0.0     \u001b[0m | \u001b[0m 9.768   \u001b[0m | \u001b[0m 100.0   \u001b[0m |\n",
            "| \u001b[0m 10      \u001b[0m | \u001b[0m-0.3394  \u001b[0m | \u001b[0m 0.0     \u001b[0m | \u001b[0m 1.0     \u001b[0m | \u001b[0m 7.955   \u001b[0m | \u001b[0m 109.6   \u001b[0m |\n",
            "| \u001b[0m 11      \u001b[0m | \u001b[0m-0.5     \u001b[0m | \u001b[0m 1.0     \u001b[0m | \u001b[0m 0.0     \u001b[0m | \u001b[0m 3.0     \u001b[0m | \u001b[0m 120.0   \u001b[0m |\n",
            "| \u001b[0m 12      \u001b[0m | \u001b[0m-0.3448  \u001b[0m | \u001b[0m 0.9745  \u001b[0m | \u001b[0m 0.9491  \u001b[0m | \u001b[0m 9.841   \u001b[0m | \u001b[0m 119.4   \u001b[0m |\n",
            "| \u001b[0m 13      \u001b[0m | \u001b[0m-0.5     \u001b[0m | \u001b[0m 1.0     \u001b[0m | \u001b[0m 0.0     \u001b[0m | \u001b[0m 6.743   \u001b[0m | \u001b[0m 112.7   \u001b[0m |\n",
            "=========================================================================\n"
          ],
          "name": "stdout"
        }
      ]
    },
    {
      "cell_type": "code",
      "metadata": {
        "colab": {
          "base_uri": "https://localhost:8080/"
        },
        "id": "cZk7406x0mq7",
        "outputId": "ac35b682-6288-4e72-9ca2-43a8b72a927b"
      },
      "source": [
        "#Extracting the best parameters\n",
        "params = xgb_bo.max['params']\n",
        "print(params)\n",
        "\n",
        "#Converting the max_depth and n_estimator values from float to int\n",
        "params['max_depth']= int(params['max_depth'])\n",
        "params['n_estimators']= int(params['n_estimators'])\n",
        "\n",
        "#Initialize an XGBClassifier with the tuned parameters and fit the training data\n",
        "from xgboost import XGBClassifier\n",
        "classifier2 = XGBClassifier(**params).fit(X_train, y_ros)\n",
        "\n",
        "#predicting for test set\n",
        "test_p2 = classifier2.predict(test_data)\n",
        "\n",
        "#Looking at the classification report\n",
        "print(classification_report(test_p2, final_testY))"
      ],
      "execution_count": null,
      "outputs": [
        {
          "output_type": "stream",
          "text": [
            "{'gamma': 0.6566587861866964, 'learning_rate': 0.40239288885534563, 'max_depth': 8.724081921191033, 'n_estimators': 113.46148882708889}\n",
            "              precision    recall  f1-score   support\n",
            "\n",
            "           0       0.89      0.87      0.88       589\n",
            "           1       0.26      0.30      0.28        89\n",
            "\n",
            "    accuracy                           0.80       678\n",
            "   macro avg       0.58      0.59      0.58       678\n",
            "weighted avg       0.81      0.80      0.80       678\n",
            "\n"
          ],
          "name": "stdout"
        }
      ]
    },
    {
      "cell_type": "markdown",
      "metadata": {
        "id": "T103Uhwm2bVz"
      },
      "source": [
        "##4. **K-Nearest Neighbors**"
      ]
    },
    {
      "cell_type": "code",
      "metadata": {
        "colab": {
          "base_uri": "https://localhost:8080/"
        },
        "id": "oT7n8Jap2hYO",
        "outputId": "52034350-4e49-4927-d139-c1957ab28014"
      },
      "source": [
        "knn = KNeighborsClassifier()\n",
        "knn.fit(X_train,y_ros)\n",
        "pred=knn.predict(test_data)\n",
        "print(classification_report(final_testY,pred))"
      ],
      "execution_count": null,
      "outputs": [
        {
          "output_type": "stream",
          "text": [
            "              precision    recall  f1-score   support\n",
            "\n",
            "           0       0.90      0.69      0.78       576\n",
            "           1       0.24      0.55      0.33       102\n",
            "\n",
            "    accuracy                           0.67       678\n",
            "   macro avg       0.57      0.62      0.56       678\n",
            "weighted avg       0.80      0.67      0.71       678\n",
            "\n"
          ],
          "name": "stdout"
        }
      ]
    },
    {
      "cell_type": "code",
      "metadata": {
        "colab": {
          "base_uri": "https://localhost:8080/",
          "height": 297
        },
        "id": "imG829cz2yzX",
        "outputId": "2935f926-00a6-4bd0-a6c0-49b7800ef654"
      },
      "source": [
        "from sklearn.metrics import plot_roc_curve\n",
        "plt.figure(figsize=(15,8))\n",
        "svc_disp = plot_roc_curve(knn,test_data,final_testY)\n",
        "x,y=np.arange(0,1.1,0.1),np.arange(0,1.1,0.1)\n",
        "plt.plot(x,y,'b--',color='r')\n",
        "plt.show()"
      ],
      "execution_count": null,
      "outputs": [
        {
          "output_type": "display_data",
          "data": {
            "text/plain": [
              "<Figure size 1080x576 with 0 Axes>"
            ]
          },
          "metadata": {
            "tags": []
          }
        },
        {
          "output_type": "display_data",
          "data": {
            "image/png": "[encoded data removed]",
            "text/plain": [
              "<Figure size 432x288 with 1 Axes>"
            ]
          },
          "metadata": {
            "tags": [],
            "needs_background": "light"
          }
        }
      ]
    },
    {
      "cell_type": "markdown",
      "metadata": {
        "id": "Mc64DsZO29gG"
      },
      "source": [
        "## **5.Support Vector Machine**"
      ]
    },
    {
      "cell_type": "code",
      "metadata": {
        "id": "pdlf8z1bqzRD",
        "colab": {
          "base_uri": "https://localhost:8080/"
        },
        "outputId": "df33f77d-4f8f-48d8-b110-91ae9a9bf51a"
      },
      "source": [
        "clf = SVC()\n",
        "clf.fit(X_train,y_ros)\n",
        "pred=clf.predict(test_data)\n",
        "print(classification_report(final_testY,pred))\n"
      ],
      "execution_count": null,
      "outputs": [
        {
          "output_type": "stream",
          "text": [
            "              precision    recall  f1-score   support\n",
            "\n",
            "           0       0.90      0.73      0.80       576\n",
            "           1       0.26      0.53      0.35       102\n",
            "\n",
            "    accuracy                           0.70       678\n",
            "   macro avg       0.58      0.63      0.58       678\n",
            "weighted avg       0.80      0.70      0.74       678\n",
            "\n"
          ],
          "name": "stdout"
        }
      ]
    },
    {
      "cell_type": "markdown",
      "metadata": {
        "id": "PV_C98J83E-8"
      },
      "source": [
        "##**Hypertunning SVM**"
      ]
    },
    {
      "cell_type": "code",
      "metadata": {
        "colab": {
          "base_uri": "https://localhost:8080/"
        },
        "id": "AgFKxvdn3SNA",
        "outputId": "2a982f24-574d-41e6-8123-10a5ff3a7c03"
      },
      "source": [
        "# define model and parameters\n",
        "model = SVC()\n",
        "kernel = ['rbf', 'sigmoid']\n",
        "C = [50, 10, 1.0, 0.1, 0.01]\n",
        "gamma = ['scale']\n",
        "# define grid search\n",
        "grid = dict(kernel=kernel,C=C,gamma=gamma)\n",
        "cv = RepeatedStratifiedKFold(n_splits=10, n_repeats=3, random_state=1)\n",
        "grid_search = GridSearchCV(estimator=model, param_grid=grid, n_jobs=10, cv=cv, scoring='f1',error_score=0,verbose=3)\n",
        "grid_result = grid_search.fit(X_train, y_ros)\n",
        "# summarize results\n",
        "print(\"Best: %f using %s\" % (grid_result.best_score_, grid_result.best_params_))"
      ],
      "execution_count": null,
      "outputs": [
        {
          "output_type": "stream",
          "text": [
            "Fitting 30 folds for each of 10 candidates, totalling 300 fits\n"
          ],
          "name": "stdout"
        },
        {
          "output_type": "stream",
          "text": [
            "[Parallel(n_jobs=10)]: Using backend LokyBackend with 10 concurrent workers.\n",
            "[Parallel(n_jobs=10)]: Done  12 tasks      | elapsed:   21.0s\n",
            "[Parallel(n_jobs=10)]: Done 108 tasks      | elapsed:  1.7min\n",
            "[Parallel(n_jobs=10)]: Done 268 tasks      | elapsed:  4.1min\n",
            "[Parallel(n_jobs=10)]: Done 300 out of 300 | elapsed:  4.6min finished\n"
          ],
          "name": "stderr"
        },
        {
          "output_type": "stream",
          "text": [
            "Best: 0.913374 using {'C': 50, 'gamma': 'scale', 'kernel': 'rbf'}\n"
          ],
          "name": "stdout"
        }
      ]
    },
    {
      "cell_type": "code",
      "metadata": {
        "colab": {
          "base_uri": "https://localhost:8080/"
        },
        "id": "WeEt4AtS5keZ",
        "outputId": "17e6b397-25b6-43b2-a666-5f25c23be90b"
      },
      "source": [
        "pred=grid_search.predict(test_data)\n",
        "print(classification_report(final_testY,pred))"
      ],
      "execution_count": null,
      "outputs": [
        {
          "output_type": "stream",
          "text": [
            "              precision    recall  f1-score   support\n",
            "\n",
            "           0       0.86      0.82      0.84       576\n",
            "           1       0.21      0.27      0.24       102\n",
            "\n",
            "    accuracy                           0.73       678\n",
            "   macro avg       0.54      0.55      0.54       678\n",
            "weighted avg       0.77      0.73      0.75       678\n",
            "\n"
          ],
          "name": "stdout"
        }
      ]
    },
    {
      "cell_type": "code",
      "metadata": {
        "colab": {
          "base_uri": "https://localhost:8080/",
          "height": 297
        },
        "id": "usEZlm7zkocZ",
        "outputId": "b96df583-f837-4a64-9c51-2a1067ca5031"
      },
      "source": [
        "from sklearn.metrics import plot_roc_curve\n",
        "plt.figure(figsize=(15,8))\n",
        "svc_disp = plot_roc_curve(clf,test_data,final_testY)\n",
        "x,y=np.arange(0,1.1,0.1),np.arange(0,1.1,0.1)\n",
        "plt.plot(x,y,'b--',color='r')\n",
        "plt.show()"
      ],
      "execution_count": null,
      "outputs": [
        {
          "output_type": "display_data",
          "data": {
            "text/plain": [
              "<Figure size 1080x576 with 0 Axes>"
            ]
          },
          "metadata": {
            "tags": []
          }
        },
        {
          "output_type": "display_data",
          "data": {
            "image/png": "[encoded data removed]",
            "text/plain": [
              "<Figure size 432x288 with 1 Axes>"
            ]
          },
          "metadata": {
            "tags": [],
            "needs_background": "light"
          }
        }
      ]
    },
    {
      "cell_type": "markdown",
      "metadata": {
        "id": "LvG21QNK6X81"
      },
      "source": [
        "After training each model and tuning their hyper-parameters using grid search, I evaluated and compared their performance using the following metrics:\n",
        "\n",
        "*    **The accuracy score**: which is the ratio of the number of correct predictions to the total number of input samples. It measures the tendency of an algorithm to classify data correctly.\n",
        "*    **The Recall Score**: Which is defined as the weighted harmonic mean of the test’s precision and recall. By using both precision and recall its gives a more realistic measure of a test’s performance. (Precision, also called the positive predictive value, is the proportion of positive results that truly are positive. Recall, also called sensitivity, is the ability of a test to correctly identify positive results to get the true positive rate).\n",
        "*    **The Area under the ROC Curve (AUC)**: Which provides an aggregate measure of performance across all possible classification thresholds. It gives the probability that the model ranks a random positive example more highly than a random negative example\n",
        "\n",
        "###**Here are the results:**"
      ]
    },
    {
      "cell_type": "code",
      "metadata": {
        "colab": {
          "base_uri": "https://localhost:8080/"
        },
        "id": "eHog9dLT67tb",
        "outputId": "c18f1ffb-7c70-4179-fcaf-97cf79755f43"
      },
      "source": [
        "from prettytable import PrettyTable\n",
        "test = PrettyTable(['SL NO',\"MODEL_NAME\", \"Accuracy\", \"F1-score\",'Recall'])\n",
        "test.add_row(['1','Logistic Regression','0.60','0.65','0.71'])\n",
        "test.add_row(['2','Decision Tree Classifier','0.60','0.75','0.77'])\n",
        "test.add_row(['3','XGBoost','0.74','0.69','0.67'])\n",
        "test.add_row(['4','KNearest Neighbors','0.67','0.55','0.57'])\n",
        "test.add_row(['5','Support Vector Machine','0.70','0.58','0.74'])\n",
        "print(test)"
      ],
      "execution_count": 94,
      "outputs": [
        {
          "output_type": "stream",
          "text": [
            "+-------+--------------------------+----------+----------+--------+\n",
            "| SL NO |        MODEL_NAME        | Accuracy | F1-score | Recall |\n",
            "+-------+--------------------------+----------+----------+--------+\n",
            "|   1   |   Logistic Regression    |   0.60   |   0.65   |  0.71  |\n",
            "|   2   | Decision Tree Classifier |   0.60   |   0.75   |  0.77  |\n",
            "|   3   |         XGBoost          |   0.74   |   0.69   |  0.67  |\n",
            "|   4   |    KNearest Neighbors    |   0.67   |   0.55   |  0.57  |\n",
            "|   5   |  Support Vector Machine  |   0.70   |   0.58   |  0.74  |\n",
            "+-------+--------------------------+----------+----------+--------+\n"
          ],
          "name": "stdout"
        }
      ]
    },
    {
      "cell_type": "code",
      "metadata": {
        "id": "8xeyIfS28Wg8"
      },
      "source": [
        ""
      ],
      "execution_count": null,
      "outputs": []
    }
  ]
}